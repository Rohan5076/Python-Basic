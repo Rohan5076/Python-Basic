{
  "nbformat": 4,
  "nbformat_minor": 0,
  "metadata": {
    "colab": {
      "name": "6_basic_python.ipynb",
      "provenance": [],
      "authorship_tag": "ABX9TyNX/tZKzvNwhM4MfnBj+eZ4",
      "include_colab_link": true
    },
    "kernelspec": {
      "name": "python3",
      "display_name": "Python 3"
    },
    "language_info": {
      "name": "python"
    }
  },
  "cells": [
    {
      "cell_type": "markdown",
      "metadata": {
        "id": "view-in-github",
        "colab_type": "text"
      },
      "source": [
        "<a href=\"https://colab.research.google.com/github/krio5076/Python-Basic/blob/main/6_basic_python.ipynb\" target=\"_parent\"><img src=\"https://colab.research.google.com/assets/colab-badge.svg\" alt=\"Open In Colab\"/></a>"
      ]
    },
    {
      "cell_type": "markdown",
      "source": [
        "# List\n",
        "֍ If we want to represent a group of individual objects as a single entity where insertion order needs to be preserved and duplicates are allowed, then we should go for List.\n",
        "\n",
        "֍ heterogeneous objects are allowed.\n",
        "\n",
        "֍ List is dynamic because based on our requirement we can increase the size and decrease the size.\n",
        "\n",
        "֍ In List the elements will be placed within square brackets and with comma seperator.\n",
        "\n",
        "֍ We can differentiate duplicate elements by using index and we can preserve insertion order by using index. Hence index will play very important role.\n",
        "\n",
        "֍ Python supports both positive and negative indexes. +ve index means from left to right where as negative index means right to left.\n",
        "\n",
        "֍ List objects aremutable.i.ewecanchangethecontent.\n",
        "\n"
      ],
      "metadata": {
        "id": "Ewy-kbPcN3iP"
      }
    },
    {
      "cell_type": "code",
      "source": [
        "#create empty list\n",
        "list=[]\n",
        "print(list)\n",
        "print(type(list))"
      ],
      "metadata": {
        "colab": {
          "base_uri": "https://localhost:8080/"
        },
        "id": "-z0eepXdOGQJ",
        "outputId": "b58f4fd0-ae36-4e19-d912-2260b4a90c62"
      },
      "execution_count": 2,
      "outputs": [
        {
          "output_type": "stream",
          "name": "stdout",
          "text": [
            "[]\n",
            "<class 'list'>\n"
          ]
        }
      ]
    },
    {
      "cell_type": "code",
      "execution_count": 4,
      "metadata": {
        "colab": {
          "base_uri": "https://localhost:8080/"
        },
        "id": "YnPlO18wrDxO",
        "outputId": "72ddc1f5-20d2-4ce5-fcb0-cc91b6ab16b0"
      },
      "outputs": [
        {
          "output_type": "stream",
          "name": "stdout",
          "text": [
            "enter list:[1,2,3,4]\n",
            "[1, 2, 3, 4]\n",
            "<class 'list'>\n"
          ]
        }
      ],
      "source": [
        "list=eval(input(\"enter list:\"))\n",
        "print(list)\n",
        "print(type(list))"
      ]
    },
    {
      "cell_type": "code",
      "source": [
        "#with list () function\n",
        "del list #we need to delete 'list' variable defined in above cell\n",
        "l= list(range(0,10))\n",
        "print(l)"
      ],
      "metadata": {
        "colab": {
          "base_uri": "https://localhost:8080/"
        },
        "id": "pz3wI2eyOff5",
        "outputId": "a034799e-6184-43e7-c703-f66585543ea7"
      },
      "execution_count": 5,
      "outputs": [
        {
          "output_type": "stream",
          "name": "stdout",
          "text": [
            "[0, 1, 2, 3, 4, 5, 6, 7, 8, 9]\n"
          ]
        }
      ]
    },
    {
      "cell_type": "code",
      "source": [
        "#with split() function:\n",
        "s=\"learning python is very very easy!!!\"\n",
        "l=s.split()\n",
        "print(l)\n",
        "type(l)"
      ],
      "metadata": {
        "colab": {
          "base_uri": "https://localhost:8080/"
        },
        "id": "jXJFyc0MPDCW",
        "outputId": "57c35c6c-dced-4131-e583-6c4be93f4ed2"
      },
      "execution_count": 9,
      "outputs": [
        {
          "output_type": "stream",
          "name": "stdout",
          "text": [
            "['learning', 'python', 'is', 'very', 'very', 'easy!!!']\n"
          ]
        },
        {
          "output_type": "execute_result",
          "data": {
            "text/plain": [
              "list"
            ]
          },
          "metadata": {},
          "execution_count": 9
        }
      ]
    },
    {
      "cell_type": "markdown",
      "source": [
        "## **Accessing Elements of List:**\n",
        "We can access elements of the list either by using index or by using slice operator(:)\n",
        "\n",
        "1.By using Index:\n",
        "\n",
        "List follows zero based index. ie index of first element is zero"
      ],
      "metadata": {
        "id": "NORNZz4YPmuL"
      }
    },
    {
      "cell_type": "code",
      "source": [
        "l=[1,2,3,4,5]\n",
        "l[3]"
      ],
      "metadata": {
        "colab": {
          "base_uri": "https://localhost:8080/"
        },
        "id": "ahwBvFr2PW1c",
        "outputId": "7b4eb8c2-77f0-4872-c39b-bbd53a248e32"
      },
      "execution_count": 10,
      "outputs": [
        {
          "output_type": "execute_result",
          "data": {
            "text/plain": [
              "4"
            ]
          },
          "metadata": {},
          "execution_count": 10
        }
      ]
    },
    {
      "cell_type": "code",
      "source": [
        "l=[\"python\",\"java\",\"c\",\"spark\"]\n",
        "l[3]"
      ],
      "metadata": {
        "colab": {
          "base_uri": "https://localhost:8080/",
          "height": 36
        },
        "id": "HwGQtrkfPwiy",
        "outputId": "70eae44a-1260-4e02-ec97-82fa2a8c806e"
      },
      "execution_count": 12,
      "outputs": [
        {
          "output_type": "execute_result",
          "data": {
            "text/plain": [
              "'spark'"
            ],
            "application/vnd.google.colaboratory.intrinsic+json": {
              "type": "string"
            }
          },
          "metadata": {},
          "execution_count": 12
        }
      ]
    },
    {
      "cell_type": "markdown",
      "source": [
        "2  By using Slice Operator:\n",
        "\n",
        "Syntax: list2 = list1[start:stop:step]"
      ],
      "metadata": {
        "id": "jTrCgETgQbit"
      }
    },
    {
      "cell_type": "code",
      "source": [
        "n=[1,2,3,4,5,6,7,8,9,10]\n",
        "print(n[4:10])"
      ],
      "metadata": {
        "colab": {
          "base_uri": "https://localhost:8080/"
        },
        "id": "nujmiECWP63n",
        "outputId": "64d455dc-5b1c-4434-fc45-6dc42662eb3e"
      },
      "execution_count": 13,
      "outputs": [
        {
          "output_type": "stream",
          "name": "stdout",
          "text": [
            "[5, 6, 7, 8, 9, 10]\n"
          ]
        }
      ]
    },
    {
      "cell_type": "markdown",
      "source": [
        "# List vs Mutability:\n",
        "Once we creates a List object, we can modify its content. Hence List objects are mutable."
      ],
      "metadata": {
        "id": "XiSch9NOQsb_"
      }
    },
    {
      "cell_type": "code",
      "source": [
        "n=[10,20,30,40]\n",
        "print(n)\n",
        "n[1]=777\n",
        "print(n)"
      ],
      "metadata": {
        "colab": {
          "base_uri": "https://localhost:8080/"
        },
        "id": "2my8LVDAQpTp",
        "outputId": "ba733a4d-871b-4e7c-f2c5-526998c1c53d"
      },
      "execution_count": 14,
      "outputs": [
        {
          "output_type": "stream",
          "name": "stdout",
          "text": [
            "[10, 20, 30, 40]\n",
            "[10, 777, 30, 40]\n"
          ]
        }
      ]
    },
    {
      "cell_type": "markdown",
      "source": [
        "# Traversing the Elements of List:\n",
        "The sequential access of each element in the list is called traversal."
      ],
      "metadata": {
        "id": "I2LuK1iQQ-Ty"
      }
    },
    {
      "cell_type": "code",
      "source": [
        "# 1) by using while loop\n",
        "n=[0,1,2,3,4,5,6,7,8,9,10]\n",
        "i=0\n",
        "while i< len(n):\n",
        "  print(n[i])\n",
        "  i+=1"
      ],
      "metadata": {
        "colab": {
          "base_uri": "https://localhost:8080/"
        },
        "id": "62gjHlbfQ4AZ",
        "outputId": "e6e5b0c1-406a-43a6-f381-84f6cc373e3a"
      },
      "execution_count": 16,
      "outputs": [
        {
          "output_type": "stream",
          "name": "stdout",
          "text": [
            "0\n",
            "1\n",
            "2\n",
            "3\n",
            "4\n",
            "5\n",
            "6\n",
            "7\n",
            "8\n",
            "9\n",
            "10\n"
          ]
        }
      ]
    },
    {
      "cell_type": "code",
      "source": [
        "# 2) by using for loop\n",
        "n=[0,1,2,3,4,5,6,7,8,9,10]\n",
        "for n1 in n:\n",
        "   print(n1)"
      ],
      "metadata": {
        "colab": {
          "base_uri": "https://localhost:8080/"
        },
        "id": "t_BCsVl0RaYb",
        "outputId": "6c54dd94-d31b-46a5-e260-6d7fce0e5544"
      },
      "execution_count": 20,
      "outputs": [
        {
          "output_type": "stream",
          "name": "stdout",
          "text": [
            "0\n",
            "1\n",
            "2\n",
            "3\n",
            "4\n",
            "5\n",
            "6\n",
            "7\n",
            "8\n",
            "9\n",
            "10\n"
          ]
        }
      ]
    },
    {
      "cell_type": "code",
      "source": [
        "# 3) to display ellements by index wise:\n",
        "i=[\"a\",\"b\",\"c\"]\n",
        "x=len(l)\n",
        "for i in range(x):\n",
        "  print(l[i],\"is available at positive index: \",i,\"and at negative index: \",i-x)"
      ],
      "metadata": {
        "colab": {
          "base_uri": "https://localhost:8080/"
        },
        "id": "xdvyloADR004",
        "outputId": "b3d4b7fa-b51f-405f-d18d-0df8799a508b"
      },
      "execution_count": 26,
      "outputs": [
        {
          "output_type": "stream",
          "name": "stdout",
          "text": [
            "python is available at positive index:  0 and at negative index:  -4\n",
            "java is available at positive index:  1 and at negative index:  -3\n",
            "c is available at positive index:  2 and at negative index:  -2\n",
            "spark is available at positive index:  3 and at negative index:  -1\n"
          ]
        }
      ]
    },
    {
      "cell_type": "markdown",
      "source": [
        "# Important Functions of List:\n",
        "I. To get Information about List:"
      ],
      "metadata": {
        "id": "KEl4rKiiTZC6"
      }
    },
    {
      "cell_type": "code",
      "source": [
        "#1) len(): returns the number of elements present in the list\n",
        "n=[10,20,30,40]\n",
        "print(len(n))"
      ],
      "metadata": {
        "colab": {
          "base_uri": "https://localhost:8080/"
        },
        "id": "2APeQVHfS29_",
        "outputId": "b7bc0235-dd14-4e22-f57c-323648263e7e"
      },
      "execution_count": 27,
      "outputs": [
        {
          "output_type": "stream",
          "name": "stdout",
          "text": [
            "4\n"
          ]
        }
      ]
    },
    {
      "cell_type": "code",
      "source": [
        "#2) count(): it returns the number of occurrence of specified item in the list\n",
        "n=[1,2,2,2,2,3,3]\n",
        "print(n.count(1))\n",
        "print(n.count(2))\n",
        "print(n.count(3))"
      ],
      "metadata": {
        "colab": {
          "base_uri": "https://localhost:8080/"
        },
        "id": "d2kK4eMSTwzU",
        "outputId": "843eeccd-d343-46f9-e3ab-40dd0bc5d3cf"
      },
      "execution_count": 28,
      "outputs": [
        {
          "output_type": "stream",
          "name": "stdout",
          "text": [
            "1\n",
            "4\n",
            "2\n"
          ]
        }
      ]
    },
    {
      "cell_type": "code",
      "source": [
        "#index(): returns the index of first occurnace of the specified item.\n",
        "n=[1,2,2,2,2,3,3]\n",
        "print(n.index(3))"
      ],
      "metadata": {
        "colab": {
          "base_uri": "https://localhost:8080/"
        },
        "id": "i5trbfEfUO7i",
        "outputId": "b98c58de-962f-4b8e-c893-5814131d4ffe"
      },
      "execution_count": 30,
      "outputs": [
        {
          "output_type": "stream",
          "name": "stdout",
          "text": [
            "5\n"
          ]
        }
      ]
    },
    {
      "cell_type": "markdown",
      "source": [
        "II. Manipulating Elements of List:"
      ],
      "metadata": {
        "id": "AVRtOfl9UuSa"
      }
    },
    {
      "cell_type": "code",
      "source": [
        "# 1) append() function :add item at the end of the list\n",
        "list=[]\n",
        "list.append(\"A\")\n",
        "list.append(\"B\")\n",
        "list.append(\"C\")\n",
        "print(list)"
      ],
      "metadata": {
        "colab": {
          "base_uri": "https://localhost:8080/"
        },
        "id": "dbVOfqfyUoYQ",
        "outputId": "69a13b63-0f1c-4c3f-def6-c2a10cf0b66a"
      },
      "execution_count": 31,
      "outputs": [
        {
          "output_type": "stream",
          "name": "stdout",
          "text": [
            "['A', 'B', 'C']\n"
          ]
        }
      ]
    },
    {
      "cell_type": "code",
      "source": [
        "# eg to add all the elements to the lit upto 100 which are divisible by 10-->simple --> complex\n",
        "list1=[]\n",
        "for i in range(101):\n",
        "  if i%10==0:\n",
        "    list1.append(i)\n",
        "print(list1)"
      ],
      "metadata": {
        "colab": {
          "base_uri": "https://localhost:8080/"
        },
        "id": "DjWwkcbsVN-9",
        "outputId": "dc8f2259-1145-4d45-926e-dd361d9fa336"
      },
      "execution_count": 32,
      "outputs": [
        {
          "output_type": "stream",
          "name": "stdout",
          "text": [
            "[0, 10, 20, 30, 40, 50, 60, 70, 80, 90, 100]\n"
          ]
        }
      ]
    },
    {
      "cell_type": "code",
      "source": [
        "#2) insert fuction : to insert item at specified index position\n",
        "n=[1,2,3,4,5]\n",
        "n.insert(1,888)\n",
        "print(n)"
      ],
      "metadata": {
        "colab": {
          "base_uri": "https://localhost:8080/"
        },
        "id": "wCbQcPoCVyuT",
        "outputId": "6d5a4a66-1af6-43fe-bbfd-9ec2bb490183"
      },
      "execution_count": 33,
      "outputs": [
        {
          "output_type": "stream",
          "name": "stdout",
          "text": [
            "[1, 888, 2, 3, 4, 5]\n"
          ]
        }
      ]
    },
    {
      "cell_type": "markdown",
      "source": [
        "Note: If the specified index is greater than max index then element will be inserted at lastposition. If the specified index is smaller than min index then element will be inserted at first position."
      ],
      "metadata": {
        "id": "8opp9XPSWaiY"
      }
    },
    {
      "cell_type": "code",
      "source": [
        "#3)extend() Function: To add all items of one list to another list\n",
        "order1=[\"Chicken\",\"Mutton\",\"Fish\"]\n",
        "order2=[\"RC\",\"KF\",\"FO\"]\n",
        "order1.extend(order2)\n",
        "print(order1)"
      ],
      "metadata": {
        "colab": {
          "base_uri": "https://localhost:8080/"
        },
        "id": "FnxECXVlWQYr",
        "outputId": "4e0e0bfd-990f-462f-b544-8aa727fb2d9d"
      },
      "execution_count": 34,
      "outputs": [
        {
          "output_type": "stream",
          "name": "stdout",
          "text": [
            "['Chicken', 'Mutton', 'Fish', 'RC', 'KF', 'FO']\n"
          ]
        }
      ]
    },
    {
      "cell_type": "code",
      "source": [
        "#4) remove() function:  We can use this function to remove specified item from the list.If the item present\n",
        "# multiple times then only first occurrence will be removed.\n",
        "n=[10,20,30,10]\n",
        "n.remove(10)\n",
        "print(n)"
      ],
      "metadata": {
        "colab": {
          "base_uri": "https://localhost:8080/"
        },
        "id": "70zXlmldWtae",
        "outputId": "edde8739-a172-45b2-a8ed-238ba3bc4285"
      },
      "execution_count": 36,
      "outputs": [
        {
          "output_type": "stream",
          "name": "stdout",
          "text": [
            "[20, 30, 10]\n"
          ]
        }
      ]
    },
    {
      "cell_type": "code",
      "source": [
        "#5) pop() function: it removes and returns the last element of the list\n",
        "\n",
        "n=[10,20,30,40]\n",
        "print(n.pop())\n",
        "print(n.pop())\n",
        "print(n)"
      ],
      "metadata": {
        "colab": {
          "base_uri": "https://localhost:8080/"
        },
        "id": "qRJeZftMW_Mc",
        "outputId": "2ed872d1-fbf0-41d1-e805-be8c46e8c4a6"
      },
      "execution_count": 37,
      "outputs": [
        {
          "output_type": "stream",
          "name": "stdout",
          "text": [
            "40\n",
            "30\n",
            "[10, 20]\n"
          ]
        }
      ]
    },
    {
      "cell_type": "code",
      "source": [
        "n=[10,20,30,40,50,60,70]\n",
        "print(n.pop())\n",
        "print(n.pop())\n",
        "print(n.pop(1))"
      ],
      "metadata": {
        "colab": {
          "base_uri": "https://localhost:8080/"
        },
        "id": "U8PmLB_CXfvH",
        "outputId": "8524b864-2ddc-40cc-b244-ab5ea5082c50"
      },
      "execution_count": 39,
      "outputs": [
        {
          "output_type": "stream",
          "name": "stdout",
          "text": [
            "70\n",
            "60\n",
            "20\n"
          ]
        }
      ]
    },
    {
      "cell_type": "markdown",
      "source": [
        "![image.png](data:image/png;base64,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)"
      ],
      "metadata": {
        "id": "c0xOOguKX2S1"
      }
    },
    {
      "cell_type": "markdown",
      "source": [
        "III) Ordering Elements of List:\n",
        "\n",
        "reverse(): We can use to reverse() order of elements of list"
      ],
      "metadata": {
        "id": "vbnpcm_wX5h1"
      }
    },
    {
      "cell_type": "code",
      "source": [
        "n=[10,20,30,40]\n",
        "n.reverse()\n",
        "print(n)"
      ],
      "metadata": {
        "colab": {
          "base_uri": "https://localhost:8080/"
        },
        "id": "4UbdaO_8Xs0x",
        "outputId": "83972ebc-ac93-4d92-8b9c-d5192cdb07c6"
      },
      "execution_count": 40,
      "outputs": [
        {
          "output_type": "stream",
          "name": "stdout",
          "text": [
            "[40, 30, 20, 10]\n"
          ]
        }
      ]
    },
    {
      "cell_type": "markdown",
      "source": [
        "2.sort():\n",
        "\n",
        "In list by default insertion order is preserved.\n",
        "\n",
        "If want to sort the elements of list according to default natural sorting order then we should go for sort() method.\n",
        "\n",
        "For numbers --> Default Natural sorting Order is Ascending Order\n",
        "\n",
        "For Strings-->Default Natural sorting order is Alphabetical Order"
      ],
      "metadata": {
        "id": "kD1eLcPIYEWc"
      }
    },
    {
      "cell_type": "code",
      "source": [
        "n=[20,5,10,6,10,0]\n",
        "n.sort()\n",
        "print(n)"
      ],
      "metadata": {
        "colab": {
          "base_uri": "https://localhost:8080/"
        },
        "id": "wshfDPtFYBQs",
        "outputId": "e615fbf5-f617-41f1-a6e3-7a5a7dae7f67"
      },
      "execution_count": 41,
      "outputs": [
        {
          "output_type": "stream",
          "name": "stdout",
          "text": [
            "[0, 5, 6, 10, 10, 20]\n"
          ]
        }
      ]
    },
    {
      "cell_type": "code",
      "source": [
        "s=[\"Dog\",\"dog\",\"Banana\",\"bananan\",\"Cat\",\"Apple\"]\n",
        "s.sort()\n",
        "print(s)"
      ],
      "metadata": {
        "colab": {
          "base_uri": "https://localhost:8080/"
        },
        "id": "XjUCqc4HYNoX",
        "outputId": "dc71b7ab-2c6b-4e20-a1a5-681aa1a938dd"
      },
      "execution_count": 44,
      "outputs": [
        {
          "output_type": "stream",
          "name": "stdout",
          "text": [
            "['Apple', 'Banana', 'Cat', 'Dog', 'bananan', 'dog']\n"
          ]
        }
      ]
    },
    {
      "cell_type": "markdown",
      "source": [
        "To Sort in Reverse of Default Natural Sorting Order:\n",
        "\n",
        "We can sort according to reverse of default natural sorting order by using reverse=True argument"
      ],
      "metadata": {
        "id": "D3qvP8aoYiRl"
      }
    },
    {
      "cell_type": "code",
      "source": [
        "n=[40,20,30,10,20]\n",
        "n.sort()\n",
        "print(n)\n",
        "n.sort(reverse=True)\n",
        "print(n)\n",
        "n.sort(reverse=False)\n",
        "print(n)"
      ],
      "metadata": {
        "colab": {
          "base_uri": "https://localhost:8080/"
        },
        "id": "8nMtCXxrYWDx",
        "outputId": "a81ab0dc-11fa-47d2-83f8-1e654b592b8b"
      },
      "execution_count": 45,
      "outputs": [
        {
          "output_type": "stream",
          "name": "stdout",
          "text": [
            "[10, 20, 20, 30, 40]\n",
            "[40, 30, 20, 20, 10]\n",
            "[10, 20, 20, 30, 40]\n"
          ]
        }
      ]
    },
    {
      "cell_type": "markdown",
      "source": [
        "# Aliasing and Cloning of List Objects:\n",
        "The process of giving another reference variable to the existing list is called aliasing."
      ],
      "metadata": {
        "id": "EMGsLzdMZBPK"
      }
    },
    {
      "cell_type": "code",
      "source": [
        "x=[10,20,30,40]\n",
        "y=x\n",
        "print(id(x))\n",
        "print(id(y))"
      ],
      "metadata": {
        "colab": {
          "base_uri": "https://localhost:8080/"
        },
        "id": "baM0N4m6Y8Ce",
        "outputId": "b853ca2f-892e-4a3e-dd06-73395b5ab6ea"
      },
      "execution_count": 46,
      "outputs": [
        {
          "output_type": "stream",
          "name": "stdout",
          "text": [
            "140286337903904\n",
            "140286337903904\n"
          ]
        }
      ]
    },
    {
      "cell_type": "markdown",
      "source": [
        "The process of creating exactly duplicate independent object is called cloning.\n",
        "\n",
        "We can implement cloning by using slice operator or by using copy() function."
      ],
      "metadata": {
        "id": "D1dYQl6wZUQS"
      }
    },
    {
      "cell_type": "code",
      "source": [
        "# cloning by using slicing operator\n",
        "x=[10,20,30,40]\n",
        "y=x[:]\n",
        "y[1]=777\n",
        "print(x)\n",
        "print(y)"
      ],
      "metadata": {
        "colab": {
          "base_uri": "https://localhost:8080/"
        },
        "id": "AuOlafYtZRhA",
        "outputId": "5cea71fa-0947-4251-ce7a-3fc779fc2079"
      },
      "execution_count": 47,
      "outputs": [
        {
          "output_type": "stream",
          "name": "stdout",
          "text": [
            "[10, 20, 30, 40]\n",
            "[10, 777, 30, 40]\n"
          ]
        }
      ]
    },
    {
      "cell_type": "markdown",
      "source": [
        "# Using Mathematical Operators for List Objects\n",
        "Concatenation Operator (+):\n",
        "\n",
        "We can use + to concatenate 2 lists into a single list"
      ],
      "metadata": {
        "id": "OM4Ab0FjZr9i"
      }
    },
    {
      "cell_type": "code",
      "source": [
        "a=[10,20,30]\n",
        "b=[40,50,60]\n",
        "c=a+b\n",
        "print(c)"
      ],
      "metadata": {
        "colab": {
          "base_uri": "https://localhost:8080/"
        },
        "id": "irR6n_WKZmyL",
        "outputId": "11e3f946-5dda-4965-c03e-e640928de483"
      },
      "execution_count": 48,
      "outputs": [
        {
          "output_type": "stream",
          "name": "stdout",
          "text": [
            "[10, 20, 30, 40, 50, 60]\n"
          ]
        }
      ]
    },
    {
      "cell_type": "markdown",
      "source": [
        "Repetition Operator (*):\n",
        "\n",
        "We can use repetition operator * to repeat elements of list specified number of times"
      ],
      "metadata": {
        "id": "pMJFiVotZ9qp"
      }
    },
    {
      "cell_type": "code",
      "source": [
        "x=[10,20,30]\n",
        "y=x*3\n",
        "print(y)"
      ],
      "metadata": {
        "colab": {
          "base_uri": "https://localhost:8080/"
        },
        "id": "sB50RiKYZ5qo",
        "outputId": "eb64bede-71c3-4098-dbb3-0fc8d08295d3"
      },
      "execution_count": 49,
      "outputs": [
        {
          "output_type": "stream",
          "name": "stdout",
          "text": [
            "[10, 20, 30, 10, 20, 30, 10, 20, 30]\n"
          ]
        }
      ]
    },
    {
      "cell_type": "markdown",
      "source": [
        "Comparing List Objects:\n",
        "\n",
        "We can use comparison operators for List objects"
      ],
      "metadata": {
        "id": "3XGs65sGaIif"
      }
    },
    {
      "cell_type": "code",
      "source": [
        "x=[\"Dog\",\"Cat\",\"Rat\"]\n",
        "y=[\"Dog\",\"Cat\",\"Rat\"]\n",
        "z=[\"DOG\",\"CAT\",\"RAT\"]\n",
        "print(x==y)\n",
        "print(y==z)\n",
        "print(x!=z)"
      ],
      "metadata": {
        "colab": {
          "base_uri": "https://localhost:8080/"
        },
        "id": "axvb2PVeaFdg",
        "outputId": "406928ab-eb15-47c1-9b81-e0ba87150ead"
      },
      "execution_count": 50,
      "outputs": [
        {
          "output_type": "stream",
          "name": "stdout",
          "text": [
            "True\n",
            "False\n",
            "True\n"
          ]
        }
      ]
    },
    {
      "cell_type": "code",
      "source": [
        "x=[50,20,30]\n",
        "y=[40,50,60,100,200]\n",
        "print(x>y)\n",
        "print(x<y)\n",
        "print(x>=y)\n",
        "print(x<=y)"
      ],
      "metadata": {
        "colab": {
          "base_uri": "https://localhost:8080/"
        },
        "id": "FzLLS8XDaWVF",
        "outputId": "40ab19cd-0ba7-4d14-fabb-1469a5e1e9eb"
      },
      "execution_count": 54,
      "outputs": [
        {
          "output_type": "stream",
          "name": "stdout",
          "text": [
            "True\n",
            "False\n",
            "True\n",
            "False\n"
          ]
        }
      ]
    },
    {
      "cell_type": "markdown",
      "source": [
        "Membership Operators:\n",
        "\n",
        "We can check whether element is a member of the list or not by using memebership operators.\n",
        "\n",
        "1) in Operator\n",
        "\n",
        "2) not in Operato"
      ],
      "metadata": {
        "id": "fziruvKQa2tc"
      }
    },
    {
      "cell_type": "code",
      "source": [
        "n=[10,20,30,40]\n",
        "print(10 in n)\n",
        "print(10 not in n)\n",
        "print(50 in n)"
      ],
      "metadata": {
        "colab": {
          "base_uri": "https://localhost:8080/"
        },
        "id": "AGQ--YBxapRs",
        "outputId": "607af3bc-4f9b-4055-c151-f843f127a59e"
      },
      "execution_count": 55,
      "outputs": [
        {
          "output_type": "stream",
          "name": "stdout",
          "text": [
            "True\n",
            "False\n",
            "False\n"
          ]
        }
      ]
    },
    {
      "cell_type": "markdown",
      "source": [
        "### clear() function:\n",
        "\n",
        "--> To remove all elements of list"
      ],
      "metadata": {
        "id": "oZ9Yt0zGbHeT"
      }
    },
    {
      "cell_type": "code",
      "source": [
        "n=[10,20,30,40]\n",
        "print(n)\n",
        "n.clear()\n",
        "print(n)"
      ],
      "metadata": {
        "colab": {
          "base_uri": "https://localhost:8080/"
        },
        "id": "p7n0tdiGbE-6",
        "outputId": "e2eb55d8-7e6f-47f0-8e4f-1dc982930443"
      },
      "execution_count": 56,
      "outputs": [
        {
          "output_type": "stream",
          "name": "stdout",
          "text": [
            "[10, 20, 30, 40]\n",
            "[]\n"
          ]
        }
      ]
    },
    {
      "cell_type": "markdown",
      "source": [
        "# **Nested Lists:**\n",
        "\n",
        "Sometimes we can take one list inside another list. Such type of lists are called nested"
      ],
      "metadata": {
        "id": "h29MPiKJbcae"
      }
    },
    {
      "cell_type": "code",
      "source": [
        "n=[10,20,[30,40]]\n",
        "print(n)\n",
        "print(n[0])\n",
        "print(n[2])\n",
        "print(n[2][0])\n",
        "print(n[2][1])"
      ],
      "metadata": {
        "colab": {
          "base_uri": "https://localhost:8080/"
        },
        "id": "CIDQzESubVA4",
        "outputId": "76d78a4a-63b6-4601-ec12-795896618976"
      },
      "execution_count": 57,
      "outputs": [
        {
          "output_type": "stream",
          "name": "stdout",
          "text": [
            "[10, 20, [30, 40]]\n",
            "10\n",
            "[30, 40]\n",
            "30\n",
            "40\n"
          ]
        }
      ]
    },
    {
      "cell_type": "code",
      "source": [
        "#nested list as matrix:\n",
        "# in python we can represent matrix by using the nested list.\n",
        "n=[[10,20,30],[30,40,50],[60,70,80]]\n",
        "print(n)\n",
        "print (\"element by row wise\") \n",
        "for r in n:\n",
        "  print (r)\n",
        "print(\"element by matrix style\")\n",
        "for i in range(len(n)):\n",
        "  for j in range(len(n[i])):\n",
        "    print(n[i][j],end=' ')\n",
        "  print()"
      ],
      "metadata": {
        "colab": {
          "base_uri": "https://localhost:8080/"
        },
        "id": "yhEvPaawb0m4",
        "outputId": "097f5fe7-4ce2-4455-a6a9-a25d4f0e3771"
      },
      "execution_count": 62,
      "outputs": [
        {
          "output_type": "stream",
          "name": "stdout",
          "text": [
            "[[10, 20, 30], [30, 40, 50], [60, 70, 80]]\n",
            "element by row wise\n",
            "[10, 20, 30]\n",
            "[30, 40, 50]\n",
            "[60, 70, 80]\n",
            "element by matrix style\n",
            "10 20 30 \n",
            "30 40 50 \n",
            "60 70 80 \n"
          ]
        }
      ]
    },
    {
      "cell_type": "markdown",
      "source": [
        "## List Comprehensions:\n",
        "It is very easy and compact way of creating list objects from any iterable objects (Like List, Tuple, Dictionary, Range etc) based on some condition.\n",
        "\n",
        "Syntax: list = [expression for item in list if condition]"
      ],
      "metadata": {
        "id": "6Rf9jBmJdWk-"
      }
    },
    {
      "cell_type": "code",
      "source": [
        "s=[x*x for x in range(1,11)]\n",
        "print(s)"
      ],
      "metadata": {
        "colab": {
          "base_uri": "https://localhost:8080/"
        },
        "id": "0mfWQhCFc65_",
        "outputId": "cc7e3710-99e2-42af-f2fb-afb777de5c80"
      },
      "execution_count": 63,
      "outputs": [
        {
          "output_type": "stream",
          "name": "stdout",
          "text": [
            "[1, 4, 9, 16, 25, 36, 49, 64, 81, 100]\n"
          ]
        }
      ]
    },
    {
      "cell_type": "code",
      "source": [
        "m=[x for x in s if x%2==0]\n",
        "print(m)"
      ],
      "metadata": {
        "colab": {
          "base_uri": "https://localhost:8080/"
        },
        "id": "AYSaio7EdiPw",
        "outputId": "b35721ef-cce1-431f-e375-2b64572ae0c1"
      },
      "execution_count": 64,
      "outputs": [
        {
          "output_type": "stream",
          "name": "stdout",
          "text": [
            "[4, 16, 36, 64, 100]\n"
          ]
        }
      ]
    },
    {
      "cell_type": "code",
      "source": [
        "words=[\"Balaiah\",\"Nag\",\"Venkatesh\",\"Chiranjeevi\"]\n",
        "l=[w[0] for w in words]\n",
        "print(l)"
      ],
      "metadata": {
        "colab": {
          "base_uri": "https://localhost:8080/"
        },
        "id": "9PJgevLKdy_H",
        "outputId": "1ac816e2-91bf-4bd9-b9c1-ebaab9c85758"
      },
      "execution_count": 65,
      "outputs": [
        {
          "output_type": "stream",
          "name": "stdout",
          "text": [
            "['B', 'N', 'V', 'C']\n"
          ]
        }
      ]
    },
    {
      "cell_type": "code",
      "source": [
        "num1=[10,20,30,40]\n",
        "num2=[30,40,50,60]\n",
        "num3=[ i for i in num1 if i not in num2]\n",
        "print(num3)"
      ],
      "metadata": {
        "colab": {
          "base_uri": "https://localhost:8080/"
        },
        "id": "wISEYIDdd9X2",
        "outputId": "de10e17a-cd7d-4b14-991e-a7fbb0b960a6"
      },
      "execution_count": 66,
      "outputs": [
        {
          "output_type": "stream",
          "name": "stdout",
          "text": [
            "[10, 20]\n"
          ]
        }
      ]
    },
    {
      "cell_type": "code",
      "source": [
        ""
      ],
      "metadata": {
        "id": "wsdevhTEeRJw"
      },
      "execution_count": null,
      "outputs": []
    }
  ]
}