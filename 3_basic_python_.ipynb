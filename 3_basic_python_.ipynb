{
  "nbformat": 4,
  "nbformat_minor": 0,
  "metadata": {
    "colab": {
      "name": "3_basic_python .ipynb",
      "provenance": [],
      "authorship_tag": "ABX9TyP9YBT+ifw6efuu4qXY7Mx1",
      "include_colab_link": true
    },
    "kernelspec": {
      "name": "python3",
      "display_name": "Python 3"
    },
    "language_info": {
      "name": "python"
    }
  },
  "cells": [
    {
      "cell_type": "markdown",
      "metadata": {
        "id": "view-in-github",
        "colab_type": "text"
      },
      "source": [
        "<a href=\"https://colab.research.google.com/github/krio5076/Python-Basic/blob/main/3_basic_python_.ipynb\" target=\"_parent\"><img src=\"https://colab.research.google.com/assets/colab-badge.svg\" alt=\"Open In Colab\"/></a>"
      ]
    },
    {
      "cell_type": "markdown",
      "source": [
        "# Operators\n",
        "Operator is a symbol that performs certain operations.\n",
        "\n",
        " Python provides the following set of operators\n",
        "\n",
        "1) Arithmetic Operators\n",
        "\n",
        "2) Relational Operators OR Comparison Operators\n",
        "\n",
        "3) Logical operators\n",
        "\n",
        "4) Bitwise oeprators\n",
        "\n",
        "5) Assignment operators\n",
        "\n",
        "6) Special operators\n",
        "\n",
        "1) Arithmetic Operators:\n",
        "\n",
        " Addition: +\n",
        "\n",
        " Subtraction: -\n",
        "\n",
        " Multiplication: *\n",
        "\n",
        " Division Operator: /\n",
        "\n",
        " Modulo Operator: %\n",
        "\n",
        " Floor Division Operator: //\n",
        "\n",
        " Exponent Operator OR Power Operator: **"
      ],
      "metadata": {
        "id": "j4Z6GTSkggBb"
      }
    },
    {
      "cell_type": "code",
      "execution_count": 2,
      "metadata": {
        "colab": {
          "base_uri": "https://localhost:8080/"
        },
        "id": "LhQ8JQthZzLk",
        "outputId": "8a9dbe35-036a-47cf-fe0c-a914191da6e2"
      },
      "outputs": [
        {
          "output_type": "stream",
          "name": "stdout",
          "text": [
            "a+b= 17\n",
            "a-b= 13\n",
            "a*b= 30\n",
            "a/b= 7.5\n",
            "a//b= 7\n",
            "a%b= 1\n",
            "a**b= 225\n"
          ]
        }
      ],
      "source": [
        "a=15\n",
        "b=2\n",
        "print('a+b=',a+b)\n",
        "print('a-b=',a-b)\n",
        "print('a*b=',a*b)\n",
        "print('a/b=',a/b)\n",
        "print('a//b=',a//b)\n",
        "print('a%b=',a%b)\n",
        "print('a**b=',a**b)"
      ]
    },
    {
      "cell_type": "markdown",
      "source": [
        "2) Relational Operators: >, >=, <, <="
      ],
      "metadata": {
        "id": "8ezW2gG-meZN"
      }
    },
    {
      "cell_type": "code",
      "source": [
        "a=10\n",
        "b=20\n",
        "print(\"a>b is\",a>b)\n",
        "print(\"a>=b is\",a>=b)\n",
        "print(\"a<b is\",a<b)\n",
        "print(\"a<=b is\",a<=b)\n",
        "\n"
      ],
      "metadata": {
        "colab": {
          "base_uri": "https://localhost:8080/"
        },
        "id": "b6520zQLhlF-",
        "outputId": "bd6f9c01-fa95-46f2-ca8f-bee89a9a6fed"
      },
      "execution_count": 3,
      "outputs": [
        {
          "output_type": "stream",
          "name": "stdout",
          "text": [
            "a>b is False\n",
            "a>=b is False\n",
            "a<b is True\n",
            "a<=b is True\n"
          ]
        }
      ]
    },
    {
      "cell_type": "markdown",
      "source": [
        "3) Equality Operators: ==, !=\n",
        "\n",
        "We can apply these operators for any type even for incompatible types also."
      ],
      "metadata": {
        "id": "vPoeEvWDnGEj"
      }
    },
    {
      "cell_type": "code",
      "source": [
        "10==20"
      ],
      "metadata": {
        "colab": {
          "base_uri": "https://localhost:8080/"
        },
        "id": "3kqAmh6bm_2C",
        "outputId": "4d58f692-647f-43ad-cd89-77987ba82ba4"
      },
      "execution_count": 4,
      "outputs": [
        {
          "output_type": "execute_result",
          "data": {
            "text/plain": [
              "False"
            ]
          },
          "metadata": {},
          "execution_count": 4
        }
      ]
    },
    {
      "cell_type": "code",
      "source": [
        "10!=20"
      ],
      "metadata": {
        "colab": {
          "base_uri": "https://localhost:8080/"
        },
        "id": "8qlj5gxknMUL",
        "outputId": "a8927f77-9dd1-48af-9b35-617bd47ed2fb"
      },
      "execution_count": 5,
      "outputs": [
        {
          "output_type": "execute_result",
          "data": {
            "text/plain": [
              "True"
            ]
          },
          "metadata": {},
          "execution_count": 5
        }
      ]
    },
    {
      "cell_type": "code",
      "source": [
        "10==True"
      ],
      "metadata": {
        "colab": {
          "base_uri": "https://localhost:8080/"
        },
        "id": "W7fJX0lBnRxU",
        "outputId": "28fc14e3-1f60-4729-e004-9bdea854db8f"
      },
      "execution_count": 7,
      "outputs": [
        {
          "output_type": "execute_result",
          "data": {
            "text/plain": [
              "False"
            ]
          },
          "metadata": {},
          "execution_count": 7
        }
      ]
    },
    {
      "cell_type": "code",
      "source": [
        "False==False"
      ],
      "metadata": {
        "colab": {
          "base_uri": "https://localhost:8080/"
        },
        "id": "EyInDDqnnZIu",
        "outputId": "401137ce-25b5-49d7-eb5a-bc236abb0945"
      },
      "execution_count": 8,
      "outputs": [
        {
          "output_type": "execute_result",
          "data": {
            "text/plain": [
              "True"
            ]
          },
          "metadata": {},
          "execution_count": 8
        }
      ]
    },
    {
      "cell_type": "code",
      "source": [
        "10==10==10==10"
      ],
      "metadata": {
        "colab": {
          "base_uri": "https://localhost:8080/"
        },
        "id": "V14Ulaoone4A",
        "outputId": "539ed09e-4741-4276-9c88-d8001a749eb5"
      },
      "execution_count": 9,
      "outputs": [
        {
          "output_type": "execute_result",
          "data": {
            "text/plain": [
              "True"
            ]
          },
          "metadata": {},
          "execution_count": 9
        }
      ]
    },
    {
      "cell_type": "markdown",
      "source": [
        "4) Logical Operators: and, or, not\n",
        "\n",
        "We can apply for all types.\n",
        "\n",
        "For boolean Types Behaviour:\n",
        "\n",
        "and -> If both arguments are True then only result is True\n",
        "\n",
        "or -> If atleast one arugemnt is True then result is True\n",
        "\n",
        "not -> Complement\n",
        "\n",
        "True and False ==> False\n",
        "\n",
        "True or False ==> True\n",
        "\n",
        "not False ==> True\n",
        "\n",
        "For non-boolean Types Behaviour:\n",
        "\n",
        "0 means False\n",
        "\n",
        "non-zero means True\n",
        "\n",
        "empty string is always treated as False\n",
        "\n",
        "x and y:\n",
        "\n",
        "If x is evaluates to false return x otherwise return y\n",
        "\n",
        "Eg:\n",
        "\n",
        "10 and 20\n",
        "\n",
        "0 and 20\n",
        "\n",
        "If first argument is zero then result is zero otherwise result is y"
      ],
      "metadata": {
        "id": "eCX_gO4JnnG1"
      }
    },
    {
      "cell_type": "code",
      "source": [
        "10 and 20"
      ],
      "metadata": {
        "colab": {
          "base_uri": "https://localhost:8080/"
        },
        "id": "k6jdK_fcniEz",
        "outputId": "e5634b08-5682-4d84-c6bc-c8628028f195"
      },
      "execution_count": 10,
      "outputs": [
        {
          "output_type": "execute_result",
          "data": {
            "text/plain": [
              "20"
            ]
          },
          "metadata": {},
          "execution_count": 10
        }
      ]
    },
    {
      "cell_type": "code",
      "source": [
        "0 and 20"
      ],
      "metadata": {
        "colab": {
          "base_uri": "https://localhost:8080/"
        },
        "id": "dYX48cNMnsn1",
        "outputId": "fcd3380a-6933-4ec6-c76e-73a717c95dfd"
      },
      "execution_count": 11,
      "outputs": [
        {
          "output_type": "execute_result",
          "data": {
            "text/plain": [
              "0"
            ]
          },
          "metadata": {},
          "execution_count": 11
        }
      ]
    },
    {
      "cell_type": "code",
      "source": [
        "#x or y:\n",
        "#if x evaluates to True then reult is x otherwie result is y\n",
        "print(10 or 20)  #10\n",
        "0 or 20 #20"
      ],
      "metadata": {
        "colab": {
          "base_uri": "https://localhost:8080/"
        },
        "id": "m_Vllk9MnzTD",
        "outputId": "931f770a-2e29-4fb2-9676-256bf6a5ff17"
      },
      "execution_count": 12,
      "outputs": [
        {
          "output_type": "stream",
          "name": "stdout",
          "text": [
            "10\n"
          ]
        },
        {
          "output_type": "execute_result",
          "data": {
            "text/plain": [
              "20"
            ]
          },
          "metadata": {},
          "execution_count": 12
        }
      ]
    },
    {
      "cell_type": "code",
      "source": [
        "#not x:\n",
        "#if x evaluates to False then reult is True otherwie False\n",
        "print(not 10)#False\n",
        "not 0 #True"
      ],
      "metadata": {
        "colab": {
          "base_uri": "https://localhost:8080/"
        },
        "id": "HEA8pmmzoMvK",
        "outputId": "d78c8d5a-77d6-41a5-f8ca-f02ccf346488"
      },
      "execution_count": 13,
      "outputs": [
        {
          "output_type": "stream",
          "name": "stdout",
          "text": [
            "False\n"
          ]
        },
        {
          "output_type": "execute_result",
          "data": {
            "text/plain": [
              "True"
            ]
          },
          "metadata": {},
          "execution_count": 13
        }
      ]
    },
    {
      "cell_type": "markdown",
      "source": [
        "## **Self Study: Bitwise and Shift Operators**\n",
        "5) Bitwise Operators:\n",
        "\n",
        "֍ We can apply these operators bitwise.\n",
        "\n",
        "֍ These operators are applicable only for int and boolean types.\n",
        "\n",
        "֍ By mistake if we are trying to apply for any other type then we will get Error.\n",
        "\n",
        "֍ &, |, ^, ~, <<, >>\n",
        "\n",
        "֍ print(4&5) # Valid\n",
        "\n",
        "֍ print(10.5 & 5.6)\n",
        "\n",
        "TypeError: unsupported operand type(s) for &: 'float' and 'float'\n",
        "\n",
        "֍ print(True & True) # Valid\n",
        "\n",
        "֍ & -> If both bits are 1 then only result is 1 otherwise result is 0\n",
        "\n",
        "֍ | -> If atleast one bit is 1 then result is 1 otherwise result is 0\n",
        "\n",
        "֍ ^ -> If bits are different then only result is 1 otherwise result is 0\n",
        "\n",
        "֍ ~ -> bitwise complement operator\n",
        "\n",
        "֍ 1 -> 0 & 0 -> 1\n",
        "\n",
        "֍ << -> Bitwise Left Shift\n",
        "\n",
        "֍ >> -> Bitwise Right Shift\n",
        "\n",
        "֍ print(4&5) -> 4\n",
        "\n",
        "֍ print(4|5) -> 5\n",
        "\n",
        "֍ print(4^5) -> 1"
      ],
      "metadata": {
        "id": "iHQS39jbo3Fs"
      }
    },
    {
      "cell_type": "markdown",
      "source": [
        "![image.png](data:image/png;base64,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)"
      ],
      "metadata": {
        "id": "L1Xwr_88o7Eu"
      }
    },
    {
      "cell_type": "markdown",
      "source": [
        "Bitwise Complement Operator (~):\n",
        "\n",
        "We have to apply complement for total bits.\n",
        "\n",
        "Eg: print(~5)-> -6\n",
        "\n",
        "Note:\n",
        "\n",
        "֍ The most significant bit acts as sign bit. 0 value represents +ve number where as 1 represents -ve value.\n",
        "\n",
        "֍ Positive numbers will be repesented directly in the memory where as -ve numbers will be represented indirectly in 2's complement form.\n",
        "\n",
        "6) Shift Operators:\n",
        "\n",
        "<< Left Shift Operator\n",
        "\n",
        "After shifting the empty cells we have to fill with zero\n",
        "\n",
        "print(10<<2) -> 40"
      ],
      "metadata": {
        "id": "GCxks7KxpAEd"
      }
    },
    {
      "cell_type": "markdown",
      "source": [
        "![image.png](data:image/png;base64,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)"
      ],
      "metadata": {
        "id": "pYi-_BTupGiy"
      }
    },
    {
      "cell_type": "markdown",
      "source": [
        "## >> Right Shift Operator\n",
        "After shifting the empty cells we have to fill with sign bit.( 0 for +ve and 1 for -ve)\n",
        "\n",
        "print(10>>2) -> 2"
      ],
      "metadata": {
        "id": "CSIMezJ8pLjg"
      }
    },
    {
      "cell_type": "markdown",
      "source": [
        "![image.png](data:image/png;base64,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)"
      ],
      "metadata": {
        "id": "o7cKBOegpe6e"
      }
    },
    {
      "cell_type": "markdown",
      "source": [
        "We can apply bitwise operators for boolean types also\n",
        "\n",
        "֍ print(True & False) # False\n",
        "\n",
        "֍ print(True | False) # True\n",
        "\n",
        "֍ print(True ^ False) # True\n",
        "\n",
        "֍ print(~True) # -2\n",
        "\n",
        "֍ print(True<<2) # 4\n",
        "\n",
        "֍ print(True>>2) # 0"
      ],
      "metadata": {
        "id": "rEfJkMA-pjlR"
      }
    },
    {
      "cell_type": "code",
      "source": [
        "#Complement Operator\n",
        "~20 #formula ~=-x-1"
      ],
      "metadata": {
        "colab": {
          "base_uri": "https://localhost:8080/"
        },
        "id": "aWY_ictcowE6",
        "outputId": "b41a8a54-291d-40ba-aef0-6319d6c62b12"
      },
      "execution_count": 14,
      "outputs": [
        {
          "output_type": "execute_result",
          "data": {
            "text/plain": [
              "-21"
            ]
          },
          "metadata": {},
          "execution_count": 14
        }
      ]
    },
    {
      "cell_type": "code",
      "source": [
        "#left shift\n",
        "a=20\n",
        "a<<2 # left shift by 2 bytes\n",
        "'''Steps:\n",
        "Binary representation of 20 = 0001 0100\n",
        "Left shift by 2 bytes will remove first two zero.\n",
        "It will become 0101 0000 (we are adding two zero at the right side)\n",
        "From left to right --> 2**0,2**1, 2**2, 2**3, 2**4, 2**5, 2**6, 2**7\n",
        "2**4 +2**6 =80'''\n"
      ],
      "metadata": {
        "colab": {
          "base_uri": "https://localhost:8080/"
        },
        "id": "628hCjpyp82c",
        "outputId": "28907c66-9d24-4944-cc4f-098a49c27ab0"
      },
      "execution_count": 17,
      "outputs": [
        {
          "output_type": "execute_result",
          "data": {
            "text/plain": [
              "80"
            ]
          },
          "metadata": {},
          "execution_count": 17
        }
      ]
    },
    {
      "cell_type": "code",
      "source": [
        "a= 20 # 0001 0100 #two zeros at right end got discarded-->0000 0101\n",
        "a>>2"
      ],
      "metadata": {
        "colab": {
          "base_uri": "https://localhost:8080/"
        },
        "id": "KEjTWJkXqUt_",
        "outputId": "6917643d-d5fc-4d26-d929-7489089ac740"
      },
      "execution_count": 18,
      "outputs": [
        {
          "output_type": "execute_result",
          "data": {
            "text/plain": [
              "5"
            ]
          },
          "metadata": {},
          "execution_count": 18
        }
      ]
    },
    {
      "cell_type": "code",
      "source": [
        "#bitwise \"and\" operator\n",
        "a=20\n",
        "b=4\n",
        "a&b"
      ],
      "metadata": {
        "colab": {
          "base_uri": "https://localhost:8080/"
        },
        "id": "ddhsxN2KrHD-",
        "outputId": "dbe801e3-3852-4d44-b922-5973b7c5e103"
      },
      "execution_count": 20,
      "outputs": [
        {
          "output_type": "execute_result",
          "data": {
            "text/plain": [
              "4"
            ]
          },
          "metadata": {},
          "execution_count": 20
        }
      ]
    },
    {
      "cell_type": "code",
      "source": [
        "#bitwise \"or\" operator\n",
        "a=20\n",
        "b=4\n",
        "a|b"
      ],
      "metadata": {
        "colab": {
          "base_uri": "https://localhost:8080/"
        },
        "id": "5pGVtB2lrPiT",
        "outputId": "19656598-ae6a-4efa-b87b-7c93a0cb31a7"
      },
      "execution_count": 21,
      "outputs": [
        {
          "output_type": "execute_result",
          "data": {
            "text/plain": [
              "20"
            ]
          },
          "metadata": {},
          "execution_count": 21
        }
      ]
    },
    {
      "cell_type": "code",
      "source": [
        "# bitwise XOR \"^\" Operator\n",
        "a=20\n",
        "b= 4\n",
        "a^b"
      ],
      "metadata": {
        "colab": {
          "base_uri": "https://localhost:8080/"
        },
        "id": "EdZKW5xlreBV",
        "outputId": "81cfa2e1-9740-4b26-9801-b2a037ffe535"
      },
      "execution_count": 22,
      "outputs": [
        {
          "output_type": "execute_result",
          "data": {
            "text/plain": [
              "16"
            ]
          },
          "metadata": {},
          "execution_count": 22
        }
      ]
    },
    {
      "cell_type": "markdown",
      "source": [
        "7) Assignment Operators:\n",
        "\n",
        "֍ We can use assignment operator to assign value to the variable. Eg: x = 10\n",
        "\n",
        "֍ We can combine asignment operator with some other operator to form compound assignment operator.\n",
        "\n",
        "Eg: x += 10 -> x = x+10\n",
        "\n",
        "The following is the list of all possible compound assignment operators in Python.\n",
        "\n",
        " +=\n",
        "\n",
        " -=\n",
        "\n",
        " *=\n",
        "\n",
        " /=\n",
        "\n",
        " %=\n",
        "\n",
        " //=\n",
        "\n",
        " **=\n",
        "\n",
        " &=\n",
        "\n",
        " |=\n",
        "\n",
        " ^=\n",
        "\n",
        " >>=\n",
        "\n",
        " <<="
      ],
      "metadata": {
        "id": "rPwZV8Lurp4q"
      }
    },
    {
      "cell_type": "code",
      "source": [
        "x=10\n",
        "x+=20\n",
        "print(x)#30"
      ],
      "metadata": {
        "colab": {
          "base_uri": "https://localhost:8080/"
        },
        "id": "Q-N_KoFnri2q",
        "outputId": "d72ee18f-fe48-4be6-9af3-c54ffd0df1ab"
      },
      "execution_count": 23,
      "outputs": [
        {
          "output_type": "stream",
          "name": "stdout",
          "text": [
            "30\n"
          ]
        }
      ]
    },
    {
      "cell_type": "markdown",
      "source": [
        "8) Ternary Operator OR Conditional Operator\n",
        "\n",
        "Syntax: x = firstValue if condition else secondValue\n",
        "\n",
        "If condition is True then firstValue will be considered else secondValue will be considered."
      ],
      "metadata": {
        "id": "cWqvysHTr4ld"
      }
    },
    {
      "cell_type": "code",
      "source": [
        "# eg 1 :\n",
        "a,b=10,20\n",
        "x=30 if a<b else  40\n",
        "print(x)#30"
      ],
      "metadata": {
        "colab": {
          "base_uri": "https://localhost:8080/"
        },
        "id": "2xYMr1whr1vj",
        "outputId": "18890fd4-799e-4c03-860e-2bad6fa99801"
      },
      "execution_count": 24,
      "outputs": [
        {
          "output_type": "stream",
          "name": "stdout",
          "text": [
            "30\n"
          ]
        }
      ]
    },
    {
      "cell_type": "code",
      "source": [
        "#program for minimum of 3 numbers\n",
        "a=int(input(\"enter first number:\"))\n",
        "b=int(input(\"enter second number\"))\n",
        "c=int(input(\"enter third number\"))\n",
        "min=a if a<b and a<c else b if b<c else c\n",
        "print(\"Minimum value:\",min)"
      ],
      "metadata": {
        "colab": {
          "base_uri": "https://localhost:8080/"
        },
        "id": "o-ThMkE2sQgr",
        "outputId": "878084db-0810-4f1f-d596-52ee83cd3f79"
      },
      "execution_count": 26,
      "outputs": [
        {
          "output_type": "stream",
          "name": "stdout",
          "text": [
            "enter first number:30\n",
            "enter second number45\n",
            "enter third number10\n",
            "Minimum value: 10\n"
          ]
        }
      ]
    },
    {
      "cell_type": "markdown",
      "source": [
        "# Homework: Write the program for Maximum Of Three Numbers"
      ],
      "metadata": {
        "id": "3NUrYkp7tmg6"
      }
    },
    {
      "cell_type": "code",
      "source": [
        "#program for maximum of 3 numbers\n",
        "a=int(input(\"enter first number:\"))\n",
        "b=int(input(\"enter second number\"))\n",
        "c=int(input(\"enter third number\"))\n",
        "max=a if a>b and a>c else b if b>c else c\n",
        "print(\"Maximum value:\",max)"
      ],
      "metadata": {
        "colab": {
          "base_uri": "https://localhost:8080/"
        },
        "id": "TLoLYO-utTl7",
        "outputId": "b55b4382-cde7-42f8-8d21-90359bffbefb"
      },
      "execution_count": 28,
      "outputs": [
        {
          "output_type": "stream",
          "name": "stdout",
          "text": [
            "enter first number:5\n",
            "enter second number6\n",
            "enter third number9\n",
            "Maximum value: 9\n"
          ]
        }
      ]
    },
    {
      "cell_type": "markdown",
      "source": [
        "Identity Operators\n",
        "\n",
        " We can use identity operators for address comparison.\n",
        "\n",
        " There are 2 identity operators are available\n",
        "\n",
        "1) is\n",
        "\n",
        "2) is not\n",
        "\n",
        " r1 is r2 returns True if both r1 and r2 are pointing to the same object.\n",
        "\n",
        " r1 is not r2 returns True if both r1 and r2 are not pointing to the same object."
      ],
      "metadata": {
        "id": "SJsK9JTWuFqL"
      }
    },
    {
      "cell_type": "code",
      "source": [
        "#eg :\n",
        "a=10\n",
        "b=10\n",
        "print (a is b)"
      ],
      "metadata": {
        "colab": {
          "base_uri": "https://localhost:8080/"
        },
        "id": "_6ZgCNIot5C8",
        "outputId": "b729cdee-c6f1-43d2-cdec-15d52fa66706"
      },
      "execution_count": 29,
      "outputs": [
        {
          "output_type": "stream",
          "name": "stdout",
          "text": [
            "True\n"
          ]
        }
      ]
    },
    {
      "cell_type": "markdown",
      "source": [
        "2)Membership Operators:\n",
        "\n",
        " We can use Membership operators to check whether the given object present in the given collection. (It may be String, List, Set, Tuple OR Dict)\n",
        "\n",
        " In -> Returns True if the given object present in the specified Collection\n",
        "\n",
        " not in -> Retruns True if the given object not present in the specified Collection"
      ],
      "metadata": {
        "id": "EUCKslU_uhOa"
      }
    },
    {
      "cell_type": "code",
      "source": [
        "# Eg :\n",
        "x=\"hello learning python i very easy!!\"\n",
        "print('h'in x)\n",
        "print('d'in x)\n",
        "print('d' not in x)\n",
        "print ('python'in x)"
      ],
      "metadata": {
        "colab": {
          "base_uri": "https://localhost:8080/"
        },
        "id": "-cM0SrLXudaU",
        "outputId": "307a4fb1-df7b-42aa-cbf8-537fe4097641"
      },
      "execution_count": 30,
      "outputs": [
        {
          "output_type": "stream",
          "name": "stdout",
          "text": [
            "True\n",
            "False\n",
            "True\n",
            "True\n"
          ]
        }
      ]
    },
    {
      "cell_type": "markdown",
      "source": [
        "# **Operator Precedence:**\n",
        "If multiple operators present then which operator will be evaluated first is decided by operator precedence.\n",
        "\n",
        "BODMAS Rule: 'Brackets, Order, Division, Multiplication, Addition, Subtraction. '\n",
        "\n",
        "## Math Module\n",
        "Mathematical Functions (math Module)\n",
        "\n",
        "֍ A Module is collection of functions, variables and classes etc.\n",
        "\n",
        "֍ math is a module that contains several functions to perform mathematical operations.\n",
        "\n",
        "֍ If we want to use any module in Python, first we have to import that module. import math\n",
        "\n",
        "֍ Once we import a module then we can call any function of that module.\n",
        "\n",
        "1) import math\n",
        "\n",
        "2) print(math.sqrt(16))\n",
        "\n",
        "3) print(math.pi)"
      ],
      "metadata": {
        "id": "K_RAkkEEvRtp"
      }
    },
    {
      "cell_type": "code",
      "source": [
        "import math\n",
        "math.sqrt(16)"
      ],
      "metadata": {
        "colab": {
          "base_uri": "https://localhost:8080/"
        },
        "id": "dI9ee_pWvM1t",
        "outputId": "ccae6647-42da-4230-d631-caee33341dff"
      },
      "execution_count": 31,
      "outputs": [
        {
          "output_type": "execute_result",
          "data": {
            "text/plain": [
              "4.0"
            ]
          },
          "metadata": {},
          "execution_count": 31
        }
      ]
    },
    {
      "cell_type": "code",
      "source": [
        "#other important functions in math module\n",
        "from math import ceil,floor,factorial,trunc,gcd,sin,cos,tan\n",
        "\n",
        "print(ceil(10.55))\n",
        "print(floor(10.55))\n",
        "print(factorial(5))\n",
        "print(pow(10,20))\n",
        "print(trunc(10.55))\n",
        "print(gcd(10,20))\n",
        "print(sin(10))\n",
        "print(cos(10))\n",
        "print(tan(10))"
      ],
      "metadata": {
        "colab": {
          "base_uri": "https://localhost:8080/"
        },
        "id": "pFwu2HJ6vml0",
        "outputId": "d53459a5-ff84-4f28-8103-46ae3cf315fc"
      },
      "execution_count": 35,
      "outputs": [
        {
          "output_type": "stream",
          "name": "stdout",
          "text": [
            "11\n",
            "10\n",
            "120\n",
            "100000000000000000000\n",
            "10\n",
            "10\n",
            "-0.5440211108893698\n",
            "-0.8390715290764524\n",
            "0.6483608274590866\n"
          ]
        }
      ]
    },
    {
      "cell_type": "code",
      "source": [
        "#important vaiables\n",
        "'''pi=3.14\n",
        "   inf= infinity\n",
        "   nan= not a number '''"
      ],
      "metadata": {
        "colab": {
          "base_uri": "https://localhost:8080/",
          "height": 36
        },
        "id": "a7-Rb3Rqwnln",
        "outputId": "1841a25e-a7a9-41bd-ee6f-a6690a0c5a14"
      },
      "execution_count": 37,
      "outputs": [
        {
          "output_type": "execute_result",
          "data": {
            "text/plain": [
              "'pi=3.14\\n   inf= infinity\\n   nan= not a number '"
            ],
            "application/vnd.google.colaboratory.intrinsic+json": {
              "type": "string"
            }
          },
          "metadata": {},
          "execution_count": 37
        }
      ]
    },
    {
      "cell_type": "markdown",
      "source": [
        "# Homework: Q) Write a Python Program to find Area of Circle"
      ],
      "metadata": {
        "id": "NLPikVJHxNzZ"
      }
    },
    {
      "cell_type": "code",
      "source": [
        "import math\n",
        "radius=float(input(\"enter radius:\"))\n",
        "math.pi*radius*radius"
      ],
      "metadata": {
        "colab": {
          "base_uri": "https://localhost:8080/"
        },
        "id": "vpMhikJUxGwI",
        "outputId": "97c46d82-bca4-4946-af56-4c5a77c4148f"
      },
      "execution_count": 38,
      "outputs": [
        {
          "name": "stdout",
          "output_type": "stream",
          "text": [
            "enter radius:5\n"
          ]
        },
        {
          "output_type": "execute_result",
          "data": {
            "text/plain": [
              "78.53981633974483"
            ]
          },
          "metadata": {},
          "execution_count": 38
        }
      ]
    },
    {
      "cell_type": "markdown",
      "source": [
        "eval():\n",
        "\n",
        "eval Function take a String and evaluate the Result.\n",
        "\n",
        "Eg: x = eval(“10+20+30”)\n",
        "\n",
        "print(x)"
      ],
      "metadata": {
        "id": "jGS8urpdyE02"
      }
    },
    {
      "cell_type": "code",
      "source": [
        "x= eval (\"10+20+30\")\n",
        "print(x)"
      ],
      "metadata": {
        "colab": {
          "base_uri": "https://localhost:8080/"
        },
        "id": "O1cVv04xx-PS",
        "outputId": "7d120a4c-d902-49e3-d8f2-ec2bbb6deb4f"
      },
      "execution_count": 39,
      "outputs": [
        {
          "output_type": "stream",
          "name": "stdout",
          "text": [
            "60\n"
          ]
        }
      ]
    },
    {
      "cell_type": "markdown",
      "source": [
        "# Output Statements:\n",
        "We can use print() function to display output."
      ],
      "metadata": {
        "id": "4_9tBWQc1HJm"
      }
    },
    {
      "cell_type": "code",
      "source": [
        "#we can use escape characters\n",
        "print(\"hello \\n world\")"
      ],
      "metadata": {
        "colab": {
          "base_uri": "https://localhost:8080/"
        },
        "id": "CG_fLSgW07fC",
        "outputId": "9ae75c50-94c1-4d65-edbd-03088194b7e4"
      },
      "execution_count": 40,
      "outputs": [
        {
          "output_type": "stream",
          "name": "stdout",
          "text": [
            "hello \n",
            " world\n"
          ]
        }
      ]
    },
    {
      "cell_type": "code",
      "source": [
        "#print with variables number of argument\n",
        "a,b,c=10,20,30,\n",
        "print(\"the Value are :\",a,b,c)"
      ],
      "metadata": {
        "colab": {
          "base_uri": "https://localhost:8080/"
        },
        "id": "zLTyU_6z1dwa",
        "outputId": "42e11157-cae6-41ac-ccc1-e9b29950546f"
      },
      "execution_count": 41,
      "outputs": [
        {
          "output_type": "stream",
          "name": "stdout",
          "text": [
            "the Value are : 10 20 30\n"
          ]
        }
      ]
    },
    {
      "cell_type": "code",
      "source": [
        "#By default output values are seperated by space.If we want we can specify seperator by using \"sep\" attribute\n",
        "a,b,c=10,20,30\n",
        "print(a,b,c,sep=' ,')"
      ],
      "metadata": {
        "colab": {
          "base_uri": "https://localhost:8080/"
        },
        "id": "aDTjJ9A21y-T",
        "outputId": "001a5107-86e0-4030-ffc2-0eca3b286083"
      },
      "execution_count": 49,
      "outputs": [
        {
          "output_type": "stream",
          "name": "stdout",
          "text": [
            "10 ,20 ,30\n"
          ]
        }
      ]
    },
    {
      "cell_type": "code",
      "source": [
        "#if we want  ouput in the same line with pace\n",
        "print(\"Hello\",end=' ')\n",
        "print(\"World\",end=' ')\n",
        "print(\"Welcome\")"
      ],
      "metadata": {
        "colab": {
          "base_uri": "https://localhost:8080/"
        },
        "id": "03jeKvI22XF8",
        "outputId": "ace6523d-a70e-4e4b-cbde-5e1c147bfe99"
      },
      "execution_count": 50,
      "outputs": [
        {
          "output_type": "stream",
          "name": "stdout",
          "text": [
            "Hello World Welcome\n"
          ]
        }
      ]
    },
    {
      "cell_type": "code",
      "source": [
        "a=10\n",
        "b=20\n",
        "c=30\n",
        "print(\"a value is %i\"%a)\n",
        "print(\"b value is %d and c value is %d\"%(b,c))"
      ],
      "metadata": {
        "colab": {
          "base_uri": "https://localhost:8080/"
        },
        "id": "j2gmnHMN4awp",
        "outputId": "cd6bedb7-031f-4461-f702-2d69381deafa"
      },
      "execution_count": 52,
      "outputs": [
        {
          "output_type": "stream",
          "name": "stdout",
          "text": [
            "a value is 10\n",
            "b value is 20 and c value is 30\n"
          ]
        }
      ]
    },
    {
      "cell_type": "code",
      "source": [
        "s=\"students\"\n",
        "list1=[10,20,30,40]\n",
        "print(\"hello %s, the list of items are%s\"%(s,list1))"
      ],
      "metadata": {
        "colab": {
          "base_uri": "https://localhost:8080/"
        },
        "id": "Ze74qvsu4347",
        "outputId": "32c91050-7aa6-40c0-fa1d-287994289348"
      },
      "execution_count": 53,
      "outputs": [
        {
          "output_type": "stream",
          "name": "stdout",
          "text": [
            "hello students, the list of items are[10, 20, 30, 40]\n"
          ]
        }
      ]
    },
    {
      "cell_type": "code",
      "source": [
        ""
      ],
      "metadata": {
        "id": "CbhTG0cf5SN-"
      },
      "execution_count": null,
      "outputs": []
    }
  ]
}