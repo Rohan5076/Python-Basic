{
  "nbformat": 4,
  "nbformat_minor": 0,
  "metadata": {
    "colab": {
      "name": "8_baic_python_set.ipynb",
      "provenance": [],
      "collapsed_sections": [],
      "authorship_tag": "ABX9TyM7rLy8Umrh8cCRvlnz2BIV",
      "include_colab_link": true
    },
    "kernelspec": {
      "name": "python3",
      "display_name": "Python 3"
    },
    "language_info": {
      "name": "python"
    }
  },
  "cells": [
    {
      "cell_type": "markdown",
      "metadata": {
        "id": "view-in-github",
        "colab_type": "text"
      },
      "source": [
        "<a href=\"https://colab.research.google.com/github/Rohan5076/Python-Basic/blob/main/8_baic_python_set.ipynb\" target=\"_parent\"><img src=\"https://colab.research.google.com/assets/colab-badge.svg\" alt=\"Open In Colab\"/></a>"
      ]
    },
    {
      "cell_type": "markdown",
      "source": [
        "# SET - Data Structure\n",
        "\n",
        "1. If we want to represent a group of unique values as a single entity then we should go\n",
        "for set.\n",
        "2. Duplicates are not allowed.\n",
        "3. Insertion order is not preserved.But we can sort the elements.\n",
        "4. Indexing and slicing not allowed for the set.\n",
        "5. Heterogeneous elements are allowed.\n",
        "6. Set objects are mutable i.e once we creates set object we can perform any changes in\n",
        "that object based on our requirement.\n",
        "7. We can represent set elements within curly braces and with comma seperation\n",
        "8. We can apply mathematical operations like union, intersection, difference etc on set\n",
        "objects.\n"
      ],
      "metadata": {
        "id": "lJ0CqdVEP7zQ"
      }
    },
    {
      "cell_type": "code",
      "execution_count": null,
      "metadata": {
        "colab": {
          "base_uri": "https://localhost:8080/"
        },
        "id": "OL8ZVHXWcSoo",
        "outputId": "767bb455-9286-4a20-cca5-d6a6531f7327"
      },
      "outputs": [
        {
          "output_type": "stream",
          "name": "stdout",
          "text": [
            "{40, 10, 20, 30}\n",
            "<class 'set'>\n"
          ]
        }
      ],
      "source": [
        "s={10,20,30,40}\n",
        "print(s)\n",
        "print(type(s))"
      ]
    },
    {
      "cell_type": "code",
      "source": [
        "#we can create set object by using set() function s= set(any equence)\n",
        "l=[10,20,30,40,10,20,10]\n",
        "s=set(l)\n",
        "print(s) #{40, 10, 20, 30}"
      ],
      "metadata": {
        "colab": {
          "base_uri": "https://localhost:8080/"
        },
        "id": "cmb0OY4ndTBS",
        "outputId": "198b4d3c-748a-4062-ecf5-9abe1b47c5e2"
      },
      "execution_count": null,
      "outputs": [
        {
          "output_type": "stream",
          "name": "stdout",
          "text": [
            "{40, 10, 20, 30}\n"
          ]
        }
      ]
    },
    {
      "cell_type": "code",
      "source": [
        "s=set(range(5))\n",
        "print(s)  #{0, 1, 2, 3, 4}"
      ],
      "metadata": {
        "colab": {
          "base_uri": "https://localhost:8080/"
        },
        "id": "EURLumqYdpYO",
        "outputId": "a9258cb8-a6b8-4bb0-c132-62c369647d35"
      },
      "execution_count": null,
      "outputs": [
        {
          "output_type": "stream",
          "name": "stdout",
          "text": [
            "{0, 1, 2, 3, 4}\n"
          ]
        }
      ]
    },
    {
      "cell_type": "markdown",
      "source": [
        "## Important Functions of Set:"
      ],
      "metadata": {
        "id": "zn2Vlryad9VU"
      }
    },
    {
      "cell_type": "code",
      "source": [
        "# 1) add(x): add item x to the set\n",
        "s={10,20,30}\n",
        "s.add(40);\n",
        "print(s)  #{40, 10, 20, 30}"
      ],
      "metadata": {
        "colab": {
          "base_uri": "https://localhost:8080/"
        },
        "id": "_lFWeCLYd3Ka",
        "outputId": "eb71d94c-0704-42e7-893a-0d4a6f0d92e6"
      },
      "execution_count": null,
      "outputs": [
        {
          "output_type": "stream",
          "name": "stdout",
          "text": [
            "{40, 10, 20, 30}\n"
          ]
        }
      ]
    },
    {
      "cell_type": "code",
      "source": [
        "#  2)  update(x,y,z): add multiple items to the set\n",
        "s={10,20,30}\n",
        "l=[40,50,60,10]\n",
        "s.update(l,range(5))\n",
        "print(s)"
      ],
      "metadata": {
        "colab": {
          "base_uri": "https://localhost:8080/"
        },
        "id": "2BUc9SL5eNd2",
        "outputId": "50b03517-f12f-4900-f242-9ce65db2c7e6"
      },
      "execution_count": null,
      "outputs": [
        {
          "output_type": "stream",
          "name": "stdout",
          "text": [
            "{0, 1, 2, 3, 4, 40, 10, 50, 20, 60, 30}\n"
          ]
        }
      ]
    },
    {
      "cell_type": "markdown",
      "source": [
        "Q) What is the difference between add() and update() Functions in Set?\n",
        "\n",
        "We can use add() to add individual item to the Set,where as we can use update() function to add multiple items to Set.\n",
        "\n",
        "add() function can take only one argument where as update() function can take any number of arguments"
      ],
      "metadata": {
        "id": "Zo6w7pJ6eud1"
      }
    },
    {
      "cell_type": "code",
      "source": [
        "# 3) copy(): returns copy of the set (cloning)\n",
        "s={10,20,30}\n",
        "s1=s.copy()\n",
        "print(s1)"
      ],
      "metadata": {
        "colab": {
          "base_uri": "https://localhost:8080/"
        },
        "id": "M8HGc0L3eiUY",
        "outputId": "c5e5a58c-e2bc-4ea9-e3d3-424d423d36cd"
      },
      "execution_count": null,
      "outputs": [
        {
          "output_type": "stream",
          "name": "stdout",
          "text": [
            "{10, 20, 30}\n"
          ]
        }
      ]
    },
    {
      "cell_type": "code",
      "source": [
        "#  4) pop(): it removes and returns some random element from the set\n",
        "s={40,10,30,20}\n",
        "print(s)\n",
        "print(s.pop())\n",
        "print(s)"
      ],
      "metadata": {
        "colab": {
          "base_uri": "https://localhost:8080/"
        },
        "id": "bKUe5gnZfAJU",
        "outputId": "a89d2785-dea7-4956-aee5-a973cc391dfd"
      },
      "execution_count": null,
      "outputs": [
        {
          "output_type": "stream",
          "name": "stdout",
          "text": [
            "{40, 10, 20, 30}\n",
            "40\n",
            "{10, 20, 30}\n"
          ]
        }
      ]
    },
    {
      "cell_type": "code",
      "source": [
        "#  5) remove(x): removes specified item from the set\n",
        "s={40,10,30,20}\n",
        "s.remove(30)\n",
        "print(s)"
      ],
      "metadata": {
        "colab": {
          "base_uri": "https://localhost:8080/"
        },
        "id": "aJqdst-hfI6I",
        "outputId": "0fe485a2-333e-4f18-a6ad-7524b15cee2e"
      },
      "execution_count": null,
      "outputs": [
        {
          "output_type": "stream",
          "name": "stdout",
          "text": [
            "{40, 10, 20}\n"
          ]
        }
      ]
    },
    {
      "cell_type": "code",
      "source": [
        "# 6) discard(): it removes specified element from the space\n",
        "#if specifed error not present in the set then it will not throw error\n",
        "s={40,10,30,20}\n",
        "s.discard(30)\n",
        "print(s)"
      ],
      "metadata": {
        "colab": {
          "base_uri": "https://localhost:8080/"
        },
        "id": "Os9mV-4LfpMq",
        "outputId": "d2183a5a-f29f-4aa9-a0d1-f856a2a65fd8"
      },
      "execution_count": null,
      "outputs": [
        {
          "output_type": "stream",
          "name": "stdout",
          "text": [
            "{40, 10, 20}\n"
          ]
        }
      ]
    },
    {
      "cell_type": "code",
      "source": [
        "#7) clear(): to remove all the elements from the set\n",
        "s={10,20,30}\n",
        "print(s)\n",
        "s.clear()\n",
        "print(s)"
      ],
      "metadata": {
        "colab": {
          "base_uri": "https://localhost:8080/"
        },
        "id": "29WWFSAWgDy3",
        "outputId": "98181a88-f25d-443e-c6b2-61358cee0dee"
      },
      "execution_count": null,
      "outputs": [
        {
          "output_type": "stream",
          "name": "stdout",
          "text": [
            "{10, 20, 30}\n",
            "set()\n"
          ]
        }
      ]
    },
    {
      "cell_type": "markdown",
      "source": [
        "# **IMPORTANT CONCEPTS**\n",
        "## Mathematical Operations on the Set:"
      ],
      "metadata": {
        "id": "qIbHno68gY2-"
      }
    },
    {
      "cell_type": "code",
      "source": [
        "#1. union(): \n",
        "# Syntax: x.union(y) OR x|y: Return all the elements present in both sets\n",
        "x={10,20,30,40}\n",
        "y={30,40,50,60}\n",
        "print(x.union(y))\n",
        "print(x|y)"
      ],
      "metadata": {
        "colab": {
          "base_uri": "https://localhost:8080/"
        },
        "id": "1QTAamoJgWf2",
        "outputId": "1abdca1e-f660-488c-8a58-6c30f5abff1c"
      },
      "execution_count": null,
      "outputs": [
        {
          "output_type": "stream",
          "name": "stdout",
          "text": [
            "{40, 10, 50, 20, 60, 30}\n",
            "{40, 10, 50, 20, 60, 30}\n"
          ]
        }
      ]
    },
    {
      "cell_type": "code",
      "source": [
        "#2. intersection(): \n",
        "# Syntax: x.intersection(y) OR x&y:\n",
        "#Return common  elements present in both sets\n",
        "x={10,20,30,40}\n",
        "y={30,40,50,60}\n",
        "print(x.intersection(y))\n",
        "print(x&y)\n"
      ],
      "metadata": {
        "colab": {
          "base_uri": "https://localhost:8080/"
        },
        "id": "IHlPt7GFgzy1",
        "outputId": "ee6fac30-0fed-445f-aaf9-529c6f2ef007"
      },
      "execution_count": null,
      "outputs": [
        {
          "output_type": "stream",
          "name": "stdout",
          "text": [
            "{40, 30}\n",
            "{40, 30}\n"
          ]
        }
      ]
    },
    {
      "cell_type": "code",
      "source": [
        "#2. difference(): \n",
        "# Syntax: x.difference(y) OR x-y:\n",
        "#Returns  elements present in x but not in y.\n",
        "x={10,20,30,40}\n",
        "y={30,40,50,60}\n",
        "print(x.difference(y))\n",
        "print(x-y)"
      ],
      "metadata": {
        "colab": {
          "base_uri": "https://localhost:8080/"
        },
        "id": "XLVMpGalhYim",
        "outputId": "d9d101f4-210f-4285-c328-a43d1862636e"
      },
      "execution_count": null,
      "outputs": [
        {
          "output_type": "stream",
          "name": "stdout",
          "text": [
            "{10, 20}\n",
            "{10, 20}\n"
          ]
        }
      ]
    },
    {
      "cell_type": "code",
      "source": [
        "#4) symmetric_difference():\n",
        "#x.symmetric_difference(y) OR x^y\n",
        "#returns elements present in either x or in y but nor in both\n",
        "x={10,20,30,40}\n",
        "y={30,40,50,60}\n",
        "print(x.symmetric_difference(y))\n",
        "print(x^y)"
      ],
      "metadata": {
        "colab": {
          "base_uri": "https://localhost:8080/"
        },
        "id": "2oN1WZYHieyX",
        "outputId": "8ee08f1a-84da-4fb8-aec0-fbee72baf623"
      },
      "execution_count": null,
      "outputs": [
        {
          "output_type": "stream",
          "name": "stdout",
          "text": [
            "{10, 50, 20, 60}\n",
            "{10, 50, 20, 60}\n"
          ]
        }
      ]
    },
    {
      "cell_type": "markdown",
      "source": [
        "## Membership Operators: (in, not in)"
      ],
      "metadata": {
        "id": "c0ULO30njnNQ"
      }
    },
    {
      "cell_type": "code",
      "source": [
        "s=set(\"python\")\n",
        "print(s)\n",
        "print('d'in s)\n",
        "print('p'in s)"
      ],
      "metadata": {
        "colab": {
          "base_uri": "https://localhost:8080/"
        },
        "id": "DRKYUNA2jVXI",
        "outputId": "121f3640-d98b-4d20-9bd4-452ee81867b6"
      },
      "execution_count": null,
      "outputs": [
        {
          "output_type": "stream",
          "name": "stdout",
          "text": [
            "{'o', 'n', 'y', 'h', 'p', 't'}\n",
            "False\n",
            "True\n"
          ]
        }
      ]
    },
    {
      "cell_type": "markdown",
      "source": [
        "## Set Comprehension:"
      ],
      "metadata": {
        "id": "Ql_8ZLRPj3mu"
      }
    },
    {
      "cell_type": "code",
      "source": [
        "#set comprehension is possible.\n",
        "s={x*x for x in range(5)}\n",
        "print(s) "
      ],
      "metadata": {
        "colab": {
          "base_uri": "https://localhost:8080/"
        },
        "id": "zUDstjcbjyWe",
        "outputId": "0949e62b-836c-4587-dfdf-9502f54dc5f1"
      },
      "execution_count": null,
      "outputs": [
        {
          "output_type": "stream",
          "name": "stdout",
          "text": [
            "{0, 1, 4, 9, 16}\n"
          ]
        }
      ]
    },
    {
      "cell_type": "markdown",
      "source": [
        "## Set Objects won't support indexing and slicing:"
      ],
      "metadata": {
        "id": "VCvT_6xOkNuP"
      }
    },
    {
      "cell_type": "code",
      "source": [
        "s={10,20,30,40}\n",
        "print(s[0])\n",
        "print(s[1:3])"
      ],
      "metadata": {
        "colab": {
          "base_uri": "https://localhost:8080/",
          "height": 209
        },
        "id": "MMGB3N9EkKt6",
        "outputId": "16cd61aa-18dc-4c75-af09-30ae06971a93"
      },
      "execution_count": null,
      "outputs": [
        {
          "output_type": "error",
          "ename": "TypeError",
          "evalue": "ignored",
          "traceback": [
            "\u001b[0;31m---------------------------------------------------------------------------\u001b[0m",
            "\u001b[0;31mTypeError\u001b[0m                                 Traceback (most recent call last)",
            "\u001b[0;32m<ipython-input-22-869a217abb73>\u001b[0m in \u001b[0;36m<module>\u001b[0;34m()\u001b[0m\n\u001b[1;32m      1\u001b[0m \u001b[0ms\u001b[0m\u001b[0;34m=\u001b[0m\u001b[0;34m{\u001b[0m\u001b[0;36m10\u001b[0m\u001b[0;34m,\u001b[0m\u001b[0;36m20\u001b[0m\u001b[0;34m,\u001b[0m\u001b[0;36m30\u001b[0m\u001b[0;34m,\u001b[0m\u001b[0;36m40\u001b[0m\u001b[0;34m}\u001b[0m\u001b[0;34m\u001b[0m\u001b[0;34m\u001b[0m\u001b[0m\n\u001b[0;32m----> 2\u001b[0;31m \u001b[0mprint\u001b[0m\u001b[0;34m(\u001b[0m\u001b[0ms\u001b[0m\u001b[0;34m[\u001b[0m\u001b[0;36m0\u001b[0m\u001b[0;34m]\u001b[0m\u001b[0;34m)\u001b[0m\u001b[0;34m\u001b[0m\u001b[0;34m\u001b[0m\u001b[0m\n\u001b[0m\u001b[1;32m      3\u001b[0m \u001b[0mprint\u001b[0m\u001b[0;34m(\u001b[0m\u001b[0ms\u001b[0m\u001b[0;34m[\u001b[0m\u001b[0;36m1\u001b[0m\u001b[0;34m:\u001b[0m\u001b[0;36m3\u001b[0m\u001b[0;34m]\u001b[0m\u001b[0;34m)\u001b[0m\u001b[0;34m\u001b[0m\u001b[0;34m\u001b[0m\u001b[0m\n",
            "\u001b[0;31mTypeError\u001b[0m: 'set' object is not subscriptable"
          ]
        }
      ]
    },
    {
      "cell_type": "markdown",
      "source": [
        "# Homework\n",
        "Q) Write a Program to eliminate Duplicates Present in the List?\n",
        "\n",
        "Q) Write a Program to Print different Vowels Present in the given Word?(Using intersection method"
      ],
      "metadata": {
        "id": "SSyQ09XqkfLM"
      }
    },
    {
      "cell_type": "code",
      "source": [
        "#Q) Write a Program to eliminate Duplicates Present in the List?\n",
        "l1=[10,30,20,41,50]\n",
        "l2=[]\n",
        "for x in l1:\n",
        "     if x not in l2:\n",
        "      l2.append(x)\n",
        "print(l2)\n"
      ],
      "metadata": {
        "colab": {
          "base_uri": "https://localhost:8080/"
        },
        "id": "kQexHwZkkZpd",
        "outputId": "6598f93c-9853-4dd0-90c4-186ce5e7150e"
      },
      "execution_count": null,
      "outputs": [
        {
          "output_type": "stream",
          "name": "stdout",
          "text": [
            "[10, 30, 20, 41, 50]\n"
          ]
        }
      ]
    },
    {
      "cell_type": "code",
      "source": [
        "x=\"data scientist\"      #for vowels\n",
        "y=['a','i','e','o','u']\n",
        "for i in x:\n",
        "  if i in y:\n",
        "    print(i,end='\\t')"
      ],
      "metadata": {
        "colab": {
          "base_uri": "https://localhost:8080/"
        },
        "id": "XNruQ-1BsbZq",
        "outputId": "998c8109-77ae-45c2-af2c-634ccc4c87e4"
      },
      "execution_count": null,
      "outputs": [
        {
          "output_type": "stream",
          "name": "stdout",
          "text": [
            "a\ta\ti\te\ti\t"
          ]
        }
      ]
    },
    {
      "cell_type": "code",
      "source": [
        "x=\"data scientist\"        #foe without vowels\n",
        "y=['a','i','e','o','u']\n",
        "for i in x:\n",
        "  if i in y:\n",
        "    continue\n",
        "  print(i,end='\\t')"
      ],
      "metadata": {
        "colab": {
          "base_uri": "https://localhost:8080/"
        },
        "id": "5aspVKJMxzf4",
        "outputId": "1a06c042-b610-4356-c1dd-90f64ce1d1c0"
      },
      "execution_count": null,
      "outputs": [
        {
          "output_type": "stream",
          "name": "stdout",
          "text": [
            "d\tt\t \ts\tc\tn\tt\ts\tt\t"
          ]
        }
      ]
    },
    {
      "cell_type": "markdown",
      "source": [
        "# **UTF - 8**\n",
        "UTF-8 is one of the most commonly used encodings, and Python often defaults to using it. UTF stands for “Unicode Transformation Format”, and the ‘8’ means that 8-bit values are used in the encoding.\n",
        "\n",
        "**UTF-8 uses the following rules:**\n",
        "\n",
        "* If the code point is < 128, it’s represented by the corresponding byte value.\n",
        "\n",
        "* If the code point is >= 128, it’s turned into a sequence of two, three, or four bytes, where each byte of the sequence is between 128 and 255.\n",
        "\n",
        "**UTF-8 has several convenient properties:**\n",
        "\n",
        "* It can handle any Unicode code point.\n",
        "\n",
        "* A Unicode string is turned into a sequence of bytes that contains embedded zero bytes only where they represent the null character (U+0000). This means that UTF-8 strings can be processed by C functions such as strcpy() and sent through protocols that can’t handle zero bytes for anything other than end-of-string markers.\n",
        "\n",
        "* A string of ASCII text is also valid UTF-8 text.\n",
        "\n",
        "* UTF-8 is fairly compact; the majority of commonly used characters can be represented with one or two bytes.\n",
        "\n",
        "* If bytes are corrupted or lost, it’s possible to determine the start of the next UTF-8-encoded code point and resynchronize. It’s also unlikely that random 8-bit data will look like valid UTF-8.\n",
        "\n",
        "* UTF-8 is a byte oriented encoding. The encoding specifies that each character is represented by a specific sequence of one or more bytes.This avoids the byte-ordering issues that can occur with integer and word oriented encodings, like UTF-16 and UTF-32, where the sequence of bytes varies depending on the hardware on which the string was encoded.\n",
        "\n",
        "\n",
        "\n"
      ],
      "metadata": {
        "id": "HY-bdXKyzHbU"
      }
    },
    {
      "cell_type": "code",
      "source": [
        ""
      ],
      "metadata": {
        "id": "uRSuXskTycN1"
      },
      "execution_count": null,
      "outputs": []
    }
  ]
}