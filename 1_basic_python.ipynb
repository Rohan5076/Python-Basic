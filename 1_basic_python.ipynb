{
  "nbformat": 4,
  "nbformat_minor": 0,
  "metadata": {
    "colab": {
      "name": "1_basic_python.ipynb",
      "provenance": [],
      "authorship_tag": "ABX9TyPqBxLWahEHzSMNrf41az+X",
      "include_colab_link": true
    },
    "kernelspec": {
      "name": "python3",
      "display_name": "Python 3"
    },
    "language_info": {
      "name": "python"
    }
  },
  "cells": [
    {
      "cell_type": "markdown",
      "metadata": {
        "id": "view-in-github",
        "colab_type": "text"
      },
      "source": [
        "<a href=\"https://colab.research.google.com/github/krio5076/Python-Basic/blob/main/1_basic_python.ipynb\" target=\"_parent\"><img src=\"https://colab.research.google.com/assets/colab-badge.svg\" alt=\"Open In Colab\"/></a>"
      ]
    },
    {
      "cell_type": "markdown",
      "source": [
        "#**Python** \n",
        "Python is a general purpose high level programming language.\n",
        "\n",
        " Python was developed by Guido Van Rossam in 1989 while working at National Research Institute at Netherlands.\n",
        "\n",
        " But officially Python was made available to public in 1991. The official Date of Birth for\n",
        "\n",
        "Python is : Feb 20th 1991.\n",
        "\n",
        " Python is recommended as first programming language for beginners.\n",
        "\n",
        "Eg1: To print Helloworld"
      ],
      "metadata": {
        "id": "mvaayqJ1aOpt"
      }
    },
    {
      "cell_type": "markdown",
      "source": [
        "Eg1: To print Helloworld"
      ],
      "metadata": {
        "id": "7zDiAOMXsIJy"
      }
    },
    {
      "cell_type": "code",
      "source": [
        "print(\"hello world\")"
      ],
      "metadata": {
        "colab": {
          "base_uri": "https://localhost:8080/"
        },
        "id": "PbMQGp8BsJr9",
        "outputId": "6772d3e7-30da-4a24-f3f8-6f795b00ab77"
      },
      "execution_count": null,
      "outputs": [
        {
          "output_type": "stream",
          "name": "stdout",
          "text": [
            "hello world\n"
          ]
        }
      ]
    },
    {
      "cell_type": "markdown",
      "source": [
        "Where we can use Python: We can use everywhere. The most common important application areas are\n",
        "\n",
        "1) For developing Desktop Applications\n",
        "\n",
        "2) For developing web Applications\n",
        "\n",
        "3) For developing database Applications\n",
        "\n",
        "4) For Network Programming\n",
        "\n",
        "5) For developing games\n",
        "\n",
        "6) For Data Analysis Applications\n",
        "\n",
        "7) For Machine Learning\n",
        "\n",
        "8) For developing Artificial Intelligence Applications\n",
        "\n",
        "9) For IoT"
      ],
      "metadata": {
        "id": "T1NF8rftsfTF"
      }
    },
    {
      "cell_type": "markdown",
      "source": [
        "## **Variables**"
      ],
      "metadata": {
        "id": "vRq9o0qWsk8x"
      }
    },
    {
      "cell_type": "markdown",
      "source": [
        "## VARIABLES are entities which help us store information and retrieve it later."
      ],
      "metadata": {
        "id": "QUe04RZHtQRS"
      }
    },
    {
      "cell_type": "markdown",
      "source": [
        "*    A variable with a fixed name can store information of nature like numeric, textual, boolean etc.\n",
        "*    A Python variable is a reserved memory location to store values. In other words, a variable in a python program gives data to the computer for processing.\n",
        "*   The type of data contained in a variable can be changed at user's will\n",
        "\n",
        "\n",
        "\n",
        "\n"
      ],
      "metadata": {
        "id": "KYaPvddxtg8q"
      }
    },
    {
      "cell_type": "code",
      "source": [
        "# You can store numbers in variables.\n",
        "# The standard rule is you write the variable name followed by = sign and the value it will take\n",
        "\n",
        "x=150"
      ],
      "metadata": {
        "id": "MCB1EaIAtFkY"
      },
      "execution_count": null,
      "outputs": []
    },
    {
      "cell_type": "code",
      "source": [
        "print(x)"
      ],
      "metadata": {
        "colab": {
          "base_uri": "https://localhost:8080/"
        },
        "id": "o300Rh6iuKs5",
        "outputId": "59928ca0-5c1c-41d4-80b7-a5a653036a81"
      },
      "execution_count": null,
      "outputs": [
        {
          "output_type": "stream",
          "name": "stdout",
          "text": [
            "150\n"
          ]
        }
      ]
    },
    {
      "cell_type": "code",
      "source": [
        "y=199.9\n",
        "y"
      ],
      "metadata": {
        "colab": {
          "base_uri": "https://localhost:8080/"
        },
        "id": "MRb4OLnjuS74",
        "outputId": "65babc01-7d6d-454a-de5b-5f8ebc7fa0e8"
      },
      "execution_count": null,
      "outputs": [
        {
          "output_type": "execute_result",
          "data": {
            "text/plain": [
              "199.9"
            ]
          },
          "metadata": {},
          "execution_count": 21
        }
      ]
    },
    {
      "cell_type": "code",
      "source": [
        "print(y)"
      ],
      "metadata": {
        "colab": {
          "base_uri": "https://localhost:8080/"
        },
        "id": "VAeew5pLuhz_",
        "outputId": "0157b16c-d2e8-4726-d932-3b3971f5a069"
      },
      "execution_count": null,
      "outputs": [
        {
          "output_type": "stream",
          "name": "stdout",
          "text": [
            "199.9\n"
          ]
        }
      ]
    },
    {
      "cell_type": "code",
      "source": [
        "#error due to $\n",
        "cash$=20"
      ],
      "metadata": {
        "id": "FCljOIaGuwTE"
      },
      "execution_count": null,
      "outputs": []
    },
    {
      "cell_type": "markdown",
      "source": [
        "# **Rules to define Identifiers/variables in Python:**\n",
        "1. The only allowed characters in Python are\n",
        "\n",
        " alphabet symbols(either lower case or upper case)\n",
        "\n",
        " digits(0 to 9)\n",
        "\n",
        " underscore symbol(_)\n",
        "\n",
        "By mistake if we are using any other symbol like $ then we will get syntax error.\n",
        "\n",
        " cash = 10 √\n",
        "\n",
        " ca$h =20 #wrong syntax\n",
        "\n",
        "  2.Identifier should not starts with digit\n",
        "\n",
        " 123total #wrong syntax\n",
        "\n",
        " total123 √\n",
        "\n",
        "3.Identifiers are case sensitive. Of course Python language is case sensitive language.\n",
        " total=10\n",
        "\n",
        " TOTAL=999\n",
        "\n",
        " print(total) #10\n",
        "\n",
        " print(TOTAL) #999\n",
        "\n",
        "Identifier/Variable:\n",
        "\n",
        "1) Alphabet Symbols (Either Upper case OR Lower case)\n",
        "\n",
        "2) If Identifier is start with Underscore (_) then it indicates it is private.\n",
        "\n",
        "3) Identifier should not start with Digits.\n",
        "\n",
        "4) Identifiers are case sensitive.\n",
        "\n",
        "5) We cannot use reserved words as identifiers Eg: def = 10 #wrong\n",
        "\n",
        "6) There is no length limit for Python identifiers. But not recommended to use too lengthy identifiers.\n",
        "\n",
        "7) Dollor ($) Symbol is not allowed in Python.\n",
        "\n",
        "8) We can not use reserved words as variable names or identifiers."
      ],
      "metadata": {
        "id": "XADmlQSjvWCw"
      }
    },
    {
      "cell_type": "code",
      "source": [
        "def1=10.5\n",
        "manoj=20"
      ],
      "metadata": {
        "id": "LB7yN8CwvLZj"
      },
      "execution_count": null,
      "outputs": []
    },
    {
      "cell_type": "code",
      "source": [
        "#error due to as\n",
        "as=10"
      ],
      "metadata": {
        "colab": {
          "base_uri": "https://localhost:8080/",
          "height": 135
        },
        "id": "OxWimqQQwdsD",
        "outputId": "10f0e5c4-6d24-4c4a-baca-7da0591de5e8"
      },
      "execution_count": null,
      "outputs": [
        {
          "output_type": "error",
          "ename": "SyntaxError",
          "evalue": "ignored",
          "traceback": [
            "\u001b[0;36m  File \u001b[0;32m\"<ipython-input-26-2abb06ac1095>\"\u001b[0;36m, line \u001b[0;32m2\u001b[0m\n\u001b[0;31m    as=10\u001b[0m\n\u001b[0m     ^\u001b[0m\n\u001b[0;31mSyntaxError\u001b[0m\u001b[0;31m:\u001b[0m invalid syntax\n"
          ]
        }
      ]
    },
    {
      "cell_type": "code",
      "source": [
        "# We can not use reserved words as variable names or identifiers.\n",
        "import keyword\n",
        "keyword.kwlist"
      ],
      "metadata": {
        "colab": {
          "base_uri": "https://localhost:8080/"
        },
        "id": "WtmGiPNixpkY",
        "outputId": "425652f2-5709-4d2c-c79e-5fb2187b1b03"
      },
      "execution_count": null,
      "outputs": [
        {
          "output_type": "execute_result",
          "data": {
            "text/plain": [
              "['False',\n",
              " 'None',\n",
              " 'True',\n",
              " 'and',\n",
              " 'as',\n",
              " 'assert',\n",
              " 'async',\n",
              " 'await',\n",
              " 'break',\n",
              " 'class',\n",
              " 'continue',\n",
              " 'def',\n",
              " 'del',\n",
              " 'elif',\n",
              " 'else',\n",
              " 'except',\n",
              " 'finally',\n",
              " 'for',\n",
              " 'from',\n",
              " 'global',\n",
              " 'if',\n",
              " 'import',\n",
              " 'in',\n",
              " 'is',\n",
              " 'lambda',\n",
              " 'nonlocal',\n",
              " 'not',\n",
              " 'or',\n",
              " 'pass',\n",
              " 'raise',\n",
              " 'return',\n",
              " 'try',\n",
              " 'while',\n",
              " 'with',\n",
              " 'yield']"
            ]
          },
          "metadata": {},
          "execution_count": 27
        }
      ]
    },
    {
      "cell_type": "markdown",
      "source": [
        "# **Data Types**"
      ],
      "metadata": {
        "id": "vZPIB013yPp_"
      }
    },
    {
      "cell_type": "markdown",
      "source": [
        "Data Type represents the type of data present inside a variable.\n",
        "\n",
        "Python contains the following inbuilt data types:\n",
        "\n",
        "1) Int 2) Float 3) Complex 4) Bool 5) Str 6) Bytes 7) Bytearray 8) Range 9) List 10) Tuple 11) Set 12) Frozenset 13) Dict 14) None"
      ],
      "metadata": {
        "id": "XXXO3ylayY83"
      }
    },
    {
      "cell_type": "code",
      "source": [
        "#1) type()\n",
        "#to check the type of variable\n",
        "y=13\n",
        "print(type(y))\n",
        "#2)id()\n",
        "#to get address of object\n",
        "id(y)"
      ],
      "metadata": {
        "colab": {
          "base_uri": "https://localhost:8080/"
        },
        "id": "S5n5_Gkjxu1f",
        "outputId": "c662f79d-0386-4523-cf45-3c4ab2474711"
      },
      "execution_count": null,
      "outputs": [
        {
          "output_type": "stream",
          "name": "stdout",
          "text": [
            "<class 'int'>\n"
          ]
        },
        {
          "output_type": "execute_result",
          "data": {
            "text/plain": [
              "11256448"
            ]
          },
          "metadata": {},
          "execution_count": 29
        }
      ]
    },
    {
      "cell_type": "code",
      "source": [
        "#both variables are saved to save location\n",
        "a=2\n",
        "b=2\n",
        "\n",
        "#a=b\n",
        "print(id(a))\n",
        "print(id(b))"
      ],
      "metadata": {
        "colab": {
          "base_uri": "https://localhost:8080/"
        },
        "id": "RLc2bJBpyq58",
        "outputId": "327123c7-216e-4a06-a5f5-46e7d0b52ce9"
      },
      "execution_count": null,
      "outputs": [
        {
          "output_type": "stream",
          "name": "stdout",
          "text": [
            "11256096\n",
            "11256096\n"
          ]
        }
      ]
    },
    {
      "cell_type": "markdown",
      "source": [
        "## 3) Int(Integer) Data Type:"
      ],
      "metadata": {
        "id": "B4epMwROzHe5"
      }
    },
    {
      "cell_type": "code",
      "source": [
        "#We can use int data type to represent whole numbers (integral values)\n",
        "a=25\n",
        "print(type(a))"
      ],
      "metadata": {
        "colab": {
          "base_uri": "https://localhost:8080/"
        },
        "id": "8qBavpGly9a6",
        "outputId": "6e358fe3-e6b4-4734-faa6-573a0fd5c045"
      },
      "execution_count": null,
      "outputs": [
        {
          "output_type": "stream",
          "name": "stdout",
          "text": [
            "<class 'int'>\n"
          ]
        }
      ]
    },
    {
      "cell_type": "markdown",
      "source": [
        "# 2) Float Data Type:"
      ],
      "metadata": {
        "id": "Cu_Nv97ezZFt"
      }
    },
    {
      "cell_type": "code",
      "source": [
        "#we can use float data type to represent floating point values(decimal value)\n",
        "f=1.234\n",
        "print(type(f))#float\n",
        "#we can also represent floating point values by using exponential form\n",
        "#(scientific Notation)\n",
        "f=1.2e3#instead of 'e'we can also use 'E'\n",
        "print(f)#1200.2\n",
        "j=int(f)\n",
        "j"
      ],
      "metadata": {
        "colab": {
          "base_uri": "https://localhost:8080/"
        },
        "id": "fxJmPnwEzUKM",
        "outputId": "b5047790-906f-4a59-ca59-6d258bcf1e2e"
      },
      "execution_count": null,
      "outputs": [
        {
          "output_type": "stream",
          "name": "stdout",
          "text": [
            "<class 'float'>\n",
            "1200.0\n"
          ]
        },
        {
          "output_type": "execute_result",
          "data": {
            "text/plain": [
              "1200"
            ]
          },
          "metadata": {},
          "execution_count": 33
        }
      ]
    },
    {
      "cell_type": "markdown",
      "source": [
        "# 3) Complex Data Type:"
      ],
      "metadata": {
        "id": "euQLfxmJ2CLx"
      }
    },
    {
      "cell_type": "markdown",
      "source": [
        "![image.png](data:image/png;base64,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)"
      ],
      "metadata": {
        "id": "fjkbAV3b2RpF"
      }
    },
    {
      "cell_type": "markdown",
      "source": [
        "In the real part if we use int value then we can specify that either by decimal, octal, binary or hexa decimal form.\n",
        "\n",
        "But imaginary part should be specified only by using decimal form"
      ],
      "metadata": {
        "id": "bhx1m3js2hj8"
      }
    },
    {
      "cell_type": "code",
      "source": [
        "a=3+5j\n",
        "a"
      ],
      "metadata": {
        "colab": {
          "base_uri": "https://localhost:8080/"
        },
        "id": "UGT4yJOH1mjH",
        "outputId": "cf1c9204-461b-4612-b3d8-9164cd43298e"
      },
      "execution_count": null,
      "outputs": [
        {
          "output_type": "execute_result",
          "data": {
            "text/plain": [
              "(3+5j)"
            ]
          },
          "metadata": {},
          "execution_count": 34
        }
      ]
    },
    {
      "cell_type": "code",
      "source": [
        "#operation on complex numbers\n",
        "#we can use complex type generallyin scientific applicationand electrical\n",
        "a=10+1.5j\n",
        "b=20+2.5j\n",
        "c=a+b\n",
        "print(c)\n"
      ],
      "metadata": {
        "colab": {
          "base_uri": "https://localhost:8080/"
        },
        "id": "h6Fi4RzY2-Iz",
        "outputId": "5a81fff3-ac60-426a-ae4e-516123639e2b"
      },
      "execution_count": null,
      "outputs": [
        {
          "output_type": "stream",
          "name": "stdout",
          "text": [
            "(30+4j)\n"
          ]
        }
      ]
    },
    {
      "cell_type": "markdown",
      "source": [
        "# 4)bool Data Type"
      ],
      "metadata": {
        "id": "LhnnzrjL4Juw"
      }
    },
    {
      "cell_type": "markdown",
      "source": [
        "We can use this data type to represent boolean values.\n",
        "\n",
        " The only allowed values for this data type are:\n",
        "\n",
        " True and False\n",
        "\n",
        " Internally Python represents True as 1 and False as 0\n",
        "\n",
        "b = True type(b) # bool\n"
      ],
      "metadata": {
        "id": "uiewY9jU4Phw"
      }
    },
    {
      "cell_type": "code",
      "source": [
        "#eg:\n",
        "a=10\n",
        "b=20\n",
        "c=a<b\n",
        "print(c)#true"
      ],
      "metadata": {
        "colab": {
          "base_uri": "https://localhost:8080/"
        },
        "id": "PT5bdNlH2pW1",
        "outputId": "a9c9bab2-0f57-4d8f-c7a5-aa468148a6e3"
      },
      "execution_count": null,
      "outputs": [
        {
          "output_type": "stream",
          "name": "stdout",
          "text": [
            "True\n"
          ]
        }
      ]
    },
    {
      "cell_type": "code",
      "source": [
        " \n",
        " True +True"
      ],
      "metadata": {
        "colab": {
          "base_uri": "https://localhost:8080/"
        },
        "id": "FHjWf0UC4j2U",
        "outputId": "6f24b4fc-3956-415b-f0b2-76064233d213"
      },
      "execution_count": null,
      "outputs": [
        {
          "output_type": "execute_result",
          "data": {
            "text/plain": [
              "2"
            ]
          },
          "metadata": {},
          "execution_count": 41
        }
      ]
    },
    {
      "cell_type": "code",
      "source": [
        "True-False"
      ],
      "metadata": {
        "colab": {
          "base_uri": "https://localhost:8080/"
        },
        "id": "lmfFrmMx4vYw",
        "outputId": "32e943a9-5dcd-4223-9f4e-3b090ab407a5"
      },
      "execution_count": null,
      "outputs": [
        {
          "output_type": "execute_result",
          "data": {
            "text/plain": [
              "1"
            ]
          },
          "metadata": {},
          "execution_count": 42
        }
      ]
    },
    {
      "cell_type": "markdown",
      "source": [
        "# 5) string(str) Data Type\n",
        "A String is a sequence of characters enclosed within single quotes or double quotes."
      ],
      "metadata": {
        "id": "vIAXMocW5K29"
      }
    },
    {
      "cell_type": "code",
      "source": [
        "a1=\"Artificial Intelligence\"\n",
        "print(type(a1))\n",
        "a2=2\n",
        "print(type(a2))"
      ],
      "metadata": {
        "colab": {
          "base_uri": "https://localhost:8080/"
        },
        "id": "kpvLi24n5G9r",
        "outputId": "b09c07fb-e93c-41c1-a652-129bf815cb0a"
      },
      "execution_count": null,
      "outputs": [
        {
          "output_type": "stream",
          "name": "stdout",
          "text": [
            "<class 'str'>\n",
            "<class 'int'>\n"
          ]
        }
      ]
    },
    {
      "cell_type": "code",
      "source": [
        "#multi line string literlas\n",
        "a2= \"\"\"Artificial\n",
        " intelligence\"\"\"\n",
        "a2"
      ],
      "metadata": {
        "colab": {
          "base_uri": "https://localhost:8080/",
          "height": 36
        },
        "id": "A2gTe1S05xuh",
        "outputId": "40f598d1-84d1-43a2-8723-3d7269aea517"
      },
      "execution_count": null,
      "outputs": [
        {
          "output_type": "execute_result",
          "data": {
            "text/plain": [
              "'Artificial\\n intelligence'"
            ],
            "application/vnd.google.colaboratory.intrinsic+json": {
              "type": "string"
            }
          },
          "metadata": {},
          "execution_count": 45
        }
      ]
    },
    {
      "cell_type": "markdown",
      "source": [
        "# Slicing of string"
      ],
      "metadata": {
        "id": "WNmI4hM16RPn"
      }
    },
    {
      "cell_type": "markdown",
      "source": [
        "slice means a piece\n",
        "\n",
        "2) [ ] operator is called slice operator, which can be used to retrieve parts of String.\n",
        "\n",
        "3) In Python Strings follows zero based index.\n",
        "\n",
        "4) The index can be either +ve or -ve.\n",
        "\n",
        "5) +ve index means forward direction from Left to Right\n",
        "\n",
        "6) -ve index means backward direction from Right to Left"
      ],
      "metadata": {
        "id": "7YemYNUF6VXh"
      }
    },
    {
      "cell_type": "code",
      "source": [
        "a=\"python\""
      ],
      "metadata": {
        "id": "hq8T3wzQ6H-S"
      },
      "execution_count": null,
      "outputs": []
    },
    {
      "cell_type": "code",
      "source": [
        "a1=\"Artificial Intelligence\"\n",
        "print(a1[-3])\n",
        "type(a1)#type of a1 variable is string"
      ],
      "metadata": {
        "colab": {
          "base_uri": "https://localhost:8080/"
        },
        "id": "V4j4JgOs6e1_",
        "outputId": "daf25475-87ee-480e-84b3-1319e6958d59"
      },
      "execution_count": null,
      "outputs": [
        {
          "output_type": "stream",
          "name": "stdout",
          "text": [
            "n\n"
          ]
        },
        {
          "output_type": "execute_result",
          "data": {
            "text/plain": [
              "str"
            ]
          },
          "metadata": {},
          "execution_count": 47
        }
      ]
    },
    {
      "cell_type": "code",
      "source": [
        "a1[-1]"
      ],
      "metadata": {
        "colab": {
          "base_uri": "https://localhost:8080/",
          "height": 36
        },
        "id": "-8Sw9Hm660vu",
        "outputId": "74b0742e-ab51-4c09-ffb2-0be973c628dd"
      },
      "execution_count": null,
      "outputs": [
        {
          "output_type": "execute_result",
          "data": {
            "text/plain": [
              "'e'"
            ],
            "application/vnd.google.colaboratory.intrinsic+json": {
              "type": "string"
            }
          },
          "metadata": {},
          "execution_count": 48
        }
      ]
    },
    {
      "cell_type": "code",
      "source": [
        "a1[3:4]"
      ],
      "metadata": {
        "colab": {
          "base_uri": "https://localhost:8080/",
          "height": 36
        },
        "id": "1XVgdVY77CkB",
        "outputId": "a98bdd2d-d9ff-4a92-df22-a93aea709ab3"
      },
      "execution_count": null,
      "outputs": [
        {
          "output_type": "execute_result",
          "data": {
            "text/plain": [
              "'i'"
            ],
            "application/vnd.google.colaboratory.intrinsic+json": {
              "type": "string"
            }
          },
          "metadata": {},
          "execution_count": 49
        }
      ]
    },
    {
      "cell_type": "code",
      "source": [
        "#Extract first four letters\n",
        "a1[:4]"
      ],
      "metadata": {
        "colab": {
          "base_uri": "https://localhost:8080/",
          "height": 36
        },
        "id": "2iws6lLo7Gk5",
        "outputId": "5e839c97-8e15-4301-cde7-ef4ed0e2673c"
      },
      "execution_count": null,
      "outputs": [
        {
          "output_type": "execute_result",
          "data": {
            "text/plain": [
              "'Arti'"
            ],
            "application/vnd.google.colaboratory.intrinsic+json": {
              "type": "string"
            }
          },
          "metadata": {},
          "execution_count": 50
        }
      ]
    },
    {
      "cell_type": "code",
      "source": [
        "#extract all the letter \n",
        "a1[:]"
      ],
      "metadata": {
        "colab": {
          "base_uri": "https://localhost:8080/",
          "height": 36
        },
        "id": "3tspCk4p7Ren",
        "outputId": "a8eb2c83-fb8c-4b4d-9b93-92ad37cbf6f3"
      },
      "execution_count": null,
      "outputs": [
        {
          "output_type": "execute_result",
          "data": {
            "text/plain": [
              "'Artificial Intelligence'"
            ],
            "application/vnd.google.colaboratory.intrinsic+json": {
              "type": "string"
            }
          },
          "metadata": {},
          "execution_count": 51
        }
      ]
    },
    {
      "cell_type": "code",
      "source": [
        "#find the length of the string\n",
        "a1=\" Artificial intelligence\"\n",
        "a1[0]"
      ],
      "metadata": {
        "colab": {
          "base_uri": "https://localhost:8080/",
          "height": 36
        },
        "id": "qXFHDxEk7j2y",
        "outputId": "faf30455-2258-48d1-af2a-cf1e00ab1fb2"
      },
      "execution_count": null,
      "outputs": [
        {
          "output_type": "execute_result",
          "data": {
            "text/plain": [
              "' '"
            ],
            "application/vnd.google.colaboratory.intrinsic+json": {
              "type": "string"
            }
          },
          "metadata": {},
          "execution_count": 53
        }
      ]
    },
    {
      "cell_type": "code",
      "source": [
        "m=20\n",
        "n=10\n",
        "float(m*n)"
      ],
      "metadata": {
        "colab": {
          "base_uri": "https://localhost:8080/"
        },
        "id": "pexQypT17xLv",
        "outputId": "704f5dc2-23d8-4269-81ab-7af45c28a6f4"
      },
      "execution_count": null,
      "outputs": [
        {
          "output_type": "execute_result",
          "data": {
            "text/plain": [
              "200.0"
            ]
          },
          "metadata": {},
          "execution_count": 54
        }
      ]
    },
    {
      "cell_type": "code",
      "source": [
        ""
      ],
      "metadata": {
        "id": "wHGMsXMv7_Zj"
      },
      "execution_count": null,
      "outputs": []
    }
  ]
}