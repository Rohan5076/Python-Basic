{
  "nbformat": 4,
  "nbformat_minor": 0,
  "metadata": {
    "colab": {
      "name": "10_basic_python_function.ipynb",
      "provenance": [],
      "collapsed_sections": [
        "Cm0ru8HCXVIu",
        "kun0EQyRYoLt",
        "ghd8iNKqZIqG",
        "7e09zxltZ69N",
        "vmCAzbJ3aUlC",
        "zzQuHalGb-ex",
        "FFbwleuXdGna",
        "7rowFgTcdMOZ",
        "2PXrJM84e9D2"
      ],
      "authorship_tag": "ABX9TyNBsf3KZ991G53Bwyv68J72",
      "include_colab_link": true
    },
    "kernelspec": {
      "name": "python3",
      "display_name": "Python 3"
    },
    "language_info": {
      "name": "python"
    }
  },
  "cells": [
    {
      "cell_type": "markdown",
      "metadata": {
        "id": "view-in-github",
        "colab_type": "text"
      },
      "source": [
        "<a href=\"https://colab.research.google.com/github/krio5076/Python-Basic/blob/main/10_basic_python_function.ipynb\" target=\"_parent\"><img src=\"https://colab.research.google.com/assets/colab-badge.svg\" alt=\"Open In Colab\"/></a>"
      ]
    },
    {
      "cell_type": "markdown",
      "source": [
        "# **Functions**\n",
        "* If a group of statements is repeatedly required then it is not recommended to write these statements everytime seperately.We have to define these statements as a single unit and we can call that unit any number of times based on our requirement without rewriting. This unit is nothing but function.\n",
        "\n",
        "* The main advantage of functions is code Reusability.\n",
        "\n",
        "* Python supports two types of functions:\n",
        "\n",
        "   1. Built-in function\n",
        "\n",
        "   2. User defined function\n",
        "\n",
        "   3. Built in Functions:\n",
        "\n",
        "\n",
        "1. Built-in function\n",
        "\n",
        "The functions which are coming along with Python software automatically, are called built in functions or pre defined functions.\n",
        "\n",
        "e.g. id(), type(), input(),eval()\n",
        "\n",
        "2.  User defined function:\n",
        "\n",
        "The functions which are developed by programmer explicitly according to business requirements, are called user defined functions.\n",
        "\n",
        "Syntax:\n",
        "\n",
        "def function_name(parameters):\n",
        "\n",
        "''' doc string'''\n",
        "\n",
        "python code\n",
        "\n",
        "return value"
      ],
      "metadata": {
        "id": "P6GLfEXbSq2e"
      }
    },
    {
      "cell_type": "code",
      "execution_count": null,
      "metadata": {
        "colab": {
          "base_uri": "https://localhost:8080/"
        },
        "id": "WpmtaeF4Slj3",
        "outputId": "c1f0118c-5930-4eab-e9e0-a66987e86557"
      },
      "outputs": [
        {
          "output_type": "execute_result",
          "data": {
            "text/plain": [
              "6"
            ]
          },
          "metadata": {},
          "execution_count": 2
        }
      ],
      "source": [
        "s= \"python\"\n",
        "len(s)"
      ]
    },
    {
      "cell_type": "code",
      "source": [
        "def wish():\n",
        "  print(\"hello good morning\")\n",
        "wish()"
      ],
      "metadata": {
        "colab": {
          "base_uri": "https://localhost:8080/"
        },
        "id": "wDanpLU_Tfrt",
        "outputId": "cc45deca-c1b1-4c44-8684-fab47c60066a"
      },
      "execution_count": null,
      "outputs": [
        {
          "output_type": "stream",
          "name": "stdout",
          "text": [
            "hello good morning\n"
          ]
        }
      ]
    },
    {
      "cell_type": "markdown",
      "source": [
        "# **Parameters**\n",
        "Parameters are inputs to the function. If a function contains parameters, then at the time of calling,compulsory we should provide values otherwise, we will get error.\n",
        "\n",
        "Eg: Write a function to take name of the student as input and print wish message by name"
      ],
      "metadata": {
        "id": "QdJolZKxUH5E"
      }
    },
    {
      "cell_type": "code",
      "source": [
        "def wish(name):\n",
        "  print(\"hello\",name,\"good morning\")\n",
        "  "
      ],
      "metadata": {
        "id": "SLrkwV0PTnXY"
      },
      "execution_count": null,
      "outputs": []
    },
    {
      "cell_type": "code",
      "source": [
        "wish(\"shriniwas\")"
      ],
      "metadata": {
        "colab": {
          "base_uri": "https://localhost:8080/"
        },
        "id": "OYyz7QMbUYOY",
        "outputId": "2f9b02c6-73d3-4f39-9ec0-ab28024238db"
      },
      "execution_count": null,
      "outputs": [
        {
          "output_type": "stream",
          "name": "stdout",
          "text": [
            "hello shriniwas good morning\n"
          ]
        }
      ]
    },
    {
      "cell_type": "code",
      "source": [
        "#eg  : write a function to take number as input and print it square value\n",
        "def squareIt(number):\n",
        "  print(number*number)"
      ],
      "metadata": {
        "id": "nFOfWGNyUak3"
      },
      "execution_count": null,
      "outputs": []
    },
    {
      "cell_type": "code",
      "source": [
        "squareIt(5)"
      ],
      "metadata": {
        "colab": {
          "base_uri": "https://localhost:8080/"
        },
        "id": "B95io5saU4Tm",
        "outputId": "adcace92-f0e7-4b78-80f8-e23751500798"
      },
      "execution_count": null,
      "outputs": [
        {
          "output_type": "stream",
          "name": "stdout",
          "text": [
            "25\n"
          ]
        }
      ]
    },
    {
      "cell_type": "code",
      "source": [
        "squareIt(7)"
      ],
      "metadata": {
        "colab": {
          "base_uri": "https://localhost:8080/"
        },
        "id": "tvb8L_8oU7Cu",
        "outputId": "5866eae2-c992-4e88-9c95-7ec5506faaa9"
      },
      "execution_count": null,
      "outputs": [
        {
          "output_type": "stream",
          "name": "stdout",
          "text": [
            "49\n"
          ]
        }
      ]
    },
    {
      "cell_type": "markdown",
      "source": [
        "# Return Statement:\n",
        "Function can take input values as parameters and executes business logic, and returns output to the caller with return statement.\n",
        "\n",
        "Q) Write a Function to accept 2 Numbers as Input and return Sum"
      ],
      "metadata": {
        "id": "EcIl9sEgVP_h"
      }
    },
    {
      "cell_type": "code",
      "source": [
        "def add(x,y):\n",
        "  return x+y"
      ],
      "metadata": {
        "id": "RMg89p7HVJhq"
      },
      "execution_count": null,
      "outputs": []
    },
    {
      "cell_type": "code",
      "source": [
        "add(6,7)"
      ],
      "metadata": {
        "colab": {
          "base_uri": "https://localhost:8080/"
        },
        "id": "K7j7GshGVY7q",
        "outputId": "7b91e564-1752-494f-b882-ef76010265ac"
      },
      "execution_count": null,
      "outputs": [
        {
          "output_type": "execute_result",
          "data": {
            "text/plain": [
              "13"
            ]
          },
          "metadata": {},
          "execution_count": 11
        }
      ]
    },
    {
      "cell_type": "code",
      "source": [
        "add(5,2)"
      ],
      "metadata": {
        "colab": {
          "base_uri": "https://localhost:8080/"
        },
        "id": "p5AinHhGVaxZ",
        "outputId": "8cc4299d-444d-4a2c-8163-f1fe8e7df96b"
      },
      "execution_count": null,
      "outputs": [
        {
          "output_type": "execute_result",
          "data": {
            "text/plain": [
              "7"
            ]
          },
          "metadata": {},
          "execution_count": 12
        }
      ]
    },
    {
      "cell_type": "code",
      "source": [
        "\"\"\" Q) write a function to check whether the given number is\n",
        "Even or odd?\"\"\"\n",
        "def even_odd(num):\n",
        "  if num%2==0:\n",
        "    print(num,\"i even number\")\n",
        "  else:\n",
        "    print(num,\" is odd number\")\n",
        "    "
      ],
      "metadata": {
        "id": "-8ciVV9BVdA7"
      },
      "execution_count": null,
      "outputs": []
    },
    {
      "cell_type": "code",
      "source": [
        "even_odd(5)"
      ],
      "metadata": {
        "colab": {
          "base_uri": "https://localhost:8080/"
        },
        "id": "Kp7Y34NEWOig",
        "outputId": "af5b90fb-a81b-4db2-e6a6-57ad3acc620d"
      },
      "execution_count": null,
      "outputs": [
        {
          "output_type": "stream",
          "name": "stdout",
          "text": [
            "5  is odd number\n"
          ]
        }
      ]
    },
    {
      "cell_type": "code",
      "source": [
        "\" Q) write a function to find factorial of given number\"\n",
        "def fact(num):\n",
        "  result=1\n",
        "  while num >= 1:\n",
        "    result = result*num\n",
        "    num=num-1\n",
        "    return result"
      ],
      "metadata": {
        "id": "9lik3uodWQ0F"
      },
      "execution_count": null,
      "outputs": []
    },
    {
      "cell_type": "code",
      "source": [
        "for i in range(1,5):\n",
        "   print(\"the factorial of \",i,\"is:\",fact(i)) "
      ],
      "metadata": {
        "colab": {
          "base_uri": "https://localhost:8080/"
        },
        "id": "v02IIJFtWvuG",
        "outputId": "3742f4ca-2814-4e62-d44b-ec8378b38fcf"
      },
      "execution_count": null,
      "outputs": [
        {
          "output_type": "stream",
          "name": "stdout",
          "text": [
            "the factorial of  1 is: 1\n",
            "the factorial of  2 is: 2\n",
            "the factorial of  3 is: 3\n",
            "the factorial of  4 is: 4\n"
          ]
        }
      ]
    },
    {
      "cell_type": "markdown",
      "source": [
        "## Returning Multiple Values from a Function:"
      ],
      "metadata": {
        "id": "Cm0ru8HCXVIu"
      }
    },
    {
      "cell_type": "code",
      "source": [
        "def sum_sub(a,b):\n",
        "    sum=a+b\n",
        "    sub=a-b\n",
        "    return sum,sub"
      ],
      "metadata": {
        "id": "TEJQuPf9XAxt"
      },
      "execution_count": null,
      "outputs": []
    },
    {
      "cell_type": "code",
      "source": [
        "x,y=sum_sub(100,50) \n",
        "print(\"the sum is:\",x)\n",
        "print(\"the subtraction is:\",y)"
      ],
      "metadata": {
        "colab": {
          "base_uri": "https://localhost:8080/"
        },
        "id": "X4v_eecPXsjV",
        "outputId": "069c04c0-e5d3-48df-a815-4e363a1b2e6a"
      },
      "execution_count": null,
      "outputs": [
        {
          "output_type": "stream",
          "name": "stdout",
          "text": [
            "the sum is: 150\n",
            "the subtraction is: 50\n"
          ]
        }
      ]
    },
    {
      "cell_type": "code",
      "source": [
        ""
      ],
      "metadata": {
        "id": "CKAZgaVyX5h-"
      },
      "execution_count": null,
      "outputs": []
    },
    {
      "cell_type": "markdown",
      "source": [
        "## Types of Arguments\n",
        "def f1(a,b):\n",
        "\n",
        "-\n",
        "\n",
        "-\n",
        "\n",
        "f1(10,20)\n",
        "\n",
        "a, b are formal arguments where as 10,20 are actual arguments."
      ],
      "metadata": {
        "id": "kun0EQyRYoLt"
      }
    },
    {
      "cell_type": "markdown",
      "source": [
        "There are 4 types are actual arguments are allowed in Python.\n",
        "\n",
        " 1. Positional Arguments\n",
        " 2. Keyword Arguments\n",
        " 3. Default Arguments\n",
        " 4. Variable length arguments"
      ],
      "metadata": {
        "id": "E4Q494ObYxmj"
      }
    },
    {
      "cell_type": "markdown",
      "source": [
        "1. Positional Arguments\n",
        "These are the arguments passed to function in correct positional order.\n",
        "\n",
        "def sub(a, b):\n",
        "\n",
        "print(a-b)\n",
        "\n",
        "sub(100, 200)\n",
        "\n",
        "sub(200, 100)\n",
        "\n",
        "The number of arguments and position of arguments must be matched. If we change the order then result may be changed."
      ],
      "metadata": {
        "id": "rNQ9uiQYY9Ym"
      }
    },
    {
      "cell_type": "markdown",
      "source": [
        "## 2. Keyword Arguments:\n",
        "We can pass argument values by keyword i.e by parameter name."
      ],
      "metadata": {
        "id": "ghd8iNKqZIqG"
      }
    },
    {
      "cell_type": "code",
      "source": [
        "def wish(name,msg):\n",
        "  print(\"hello\",name,msg)"
      ],
      "metadata": {
        "id": "OoKOH_u9YuGX"
      },
      "execution_count": null,
      "outputs": []
    },
    {
      "cell_type": "code",
      "source": [
        "wish(name=\"yogesh\",msg=\"good mornindg\")"
      ],
      "metadata": {
        "colab": {
          "base_uri": "https://localhost:8080/"
        },
        "id": "slNDpU8OZbRk",
        "outputId": "f9196695-e516-4166-9943-779a5480bd96"
      },
      "execution_count": null,
      "outputs": [
        {
          "output_type": "stream",
          "name": "stdout",
          "text": [
            "hello yogesh good mornindg\n"
          ]
        }
      ]
    },
    {
      "cell_type": "code",
      "source": [
        "# position changed till working\n",
        "wish(msg=\"good morning\",name=\"akah\")"
      ],
      "metadata": {
        "colab": {
          "base_uri": "https://localhost:8080/"
        },
        "id": "QpKnwkSDZiz5",
        "outputId": "e355e7e6-5bc2-4294-a628-d07e11f31dc4"
      },
      "execution_count": null,
      "outputs": [
        {
          "output_type": "stream",
          "name": "stdout",
          "text": [
            "hello akah good morning\n"
          ]
        }
      ]
    },
    {
      "cell_type": "markdown",
      "source": [
        "## 3. Default Arguments:\n",
        "Sometimes we can provide default values for our positional arguments"
      ],
      "metadata": {
        "id": "7e09zxltZ69N"
      }
    },
    {
      "cell_type": "code",
      "source": [
        "def wish(name=\"guest\"):\n",
        "  print(\"hello\",name,\"good morning\")"
      ],
      "metadata": {
        "id": "9p3dYu5GZzfj"
      },
      "execution_count": null,
      "outputs": []
    },
    {
      "cell_type": "code",
      "source": [
        "wish(\"satish\")"
      ],
      "metadata": {
        "colab": {
          "base_uri": "https://localhost:8080/"
        },
        "id": "kkxi1NA6aMT3",
        "outputId": "8bb67990-c267-46c0-c25a-1e1bec79000e"
      },
      "execution_count": null,
      "outputs": [
        {
          "output_type": "stream",
          "name": "stdout",
          "text": [
            "hello satish good morning\n"
          ]
        }
      ]
    },
    {
      "cell_type": "code",
      "source": [
        "wish()"
      ],
      "metadata": {
        "colab": {
          "base_uri": "https://localhost:8080/"
        },
        "id": "ypb_3gCLaOm1",
        "outputId": "f29aaf33-e55b-4fe2-a44e-5605aeccb56e"
      },
      "execution_count": null,
      "outputs": [
        {
          "output_type": "stream",
          "name": "stdout",
          "text": [
            "hello guest good morning\n"
          ]
        }
      ]
    },
    {
      "cell_type": "markdown",
      "source": [
        "## 4. Variable Length Arguments:\n",
        "Sometimes we can pass variable number of arguments to our function, such type of arguments are called variable length arguments.\n",
        "\n",
        "We can declare a variable length argument with * symbol as follows\n",
        "\n",
        "def f1(*n):\n",
        "\n",
        "We can call this function by passing any number of arguments including zero number.\n",
        "\n",
        "Internally all these values represented in the form of tuple."
      ],
      "metadata": {
        "id": "vmCAzbJ3aUlC"
      }
    },
    {
      "cell_type": "code",
      "source": [
        "def sum(*n):\n",
        "  total=0\n",
        "  for n1 in n:\n",
        "    total=total+n1\n",
        "  print(\"the sum=\",total)"
      ],
      "metadata": {
        "id": "MIZANCCZaPsw"
      },
      "execution_count": null,
      "outputs": []
    },
    {
      "cell_type": "code",
      "source": [
        "sum()"
      ],
      "metadata": {
        "colab": {
          "base_uri": "https://localhost:8080/"
        },
        "id": "po9bHX9kasxB",
        "outputId": "9ba78c2c-6a9d-4df6-a90f-a083ebe56207"
      },
      "execution_count": null,
      "outputs": [
        {
          "output_type": "stream",
          "name": "stdout",
          "text": [
            "the sum= 0\n"
          ]
        }
      ]
    },
    {
      "cell_type": "code",
      "source": [
        "sum(10)"
      ],
      "metadata": {
        "colab": {
          "base_uri": "https://localhost:8080/"
        },
        "id": "yIwfZGtuat89",
        "outputId": "30e5cede-291b-4a5b-acad-e68f4f48767d"
      },
      "execution_count": null,
      "outputs": [
        {
          "output_type": "stream",
          "name": "stdout",
          "text": [
            "the sum= 10\n"
          ]
        }
      ]
    },
    {
      "cell_type": "code",
      "source": [
        "sum(10,20)"
      ],
      "metadata": {
        "colab": {
          "base_uri": "https://localhost:8080/"
        },
        "id": "9LE9rdPCavHN",
        "outputId": "67dbaec5-6d37-4bbf-ed42-0378b585c4d8"
      },
      "execution_count": null,
      "outputs": [
        {
          "output_type": "stream",
          "name": "stdout",
          "text": [
            "the sum= 30\n"
          ]
        }
      ]
    },
    {
      "cell_type": "code",
      "source": [
        "sum(10,20,30,40)"
      ],
      "metadata": {
        "colab": {
          "base_uri": "https://localhost:8080/"
        },
        "id": "EfjM85q0azil",
        "outputId": "bc59567c-fbcb-4312-8472-3ebb0bd880cd"
      },
      "execution_count": null,
      "outputs": [
        {
          "output_type": "stream",
          "name": "stdout",
          "text": [
            "the sum= 100\n"
          ]
        }
      ]
    },
    {
      "cell_type": "code",
      "source": [
        "# we can mix variable length arguments with positional arguments.\n",
        "def f1(n1,*s):\n",
        "  print(n1)\n",
        "  for s1 in s:\n",
        "    print(s1)"
      ],
      "metadata": {
        "id": "-UxPprr_a1ac"
      },
      "execution_count": null,
      "outputs": []
    },
    {
      "cell_type": "code",
      "source": [
        "f1(10)"
      ],
      "metadata": {
        "colab": {
          "base_uri": "https://localhost:8080/"
        },
        "id": "aYWK84sPbK8e",
        "outputId": "667a33ec-28c0-46b5-eb01-4ef573615861"
      },
      "execution_count": null,
      "outputs": [
        {
          "output_type": "stream",
          "name": "stdout",
          "text": [
            "10\n"
          ]
        }
      ]
    },
    {
      "cell_type": "code",
      "source": [
        "f1(10,20,30,40)"
      ],
      "metadata": {
        "colab": {
          "base_uri": "https://localhost:8080/"
        },
        "id": "KVF203XObMcI",
        "outputId": "8faaa0ae-1acc-454a-f939-11487ca569c2"
      },
      "execution_count": null,
      "outputs": [
        {
          "output_type": "stream",
          "name": "stdout",
          "text": [
            "10\n",
            "20\n",
            "30\n",
            "40\n"
          ]
        }
      ]
    },
    {
      "cell_type": "code",
      "source": [
        "f1(10,\"a\",20,\"b\")"
      ],
      "metadata": {
        "colab": {
          "base_uri": "https://localhost:8080/"
        },
        "id": "yF7HWfQjbPGg",
        "outputId": "613aba17-0af2-4617-84be-15f412f81c0c"
      },
      "execution_count": null,
      "outputs": [
        {
          "output_type": "stream",
          "name": "stdout",
          "text": [
            "10\n",
            "a\n",
            "20\n",
            "b\n"
          ]
        }
      ]
    },
    {
      "cell_type": "markdown",
      "source": [
        "Note: After variable length argument,if we are taking any other arguments then we should provide values as keyword arguments."
      ],
      "metadata": {
        "id": "lMiN46Ztbbmt"
      }
    },
    {
      "cell_type": "code",
      "source": [
        "def f1(*s,n1):\n",
        "  for s1 in s:\n",
        "    print(s1)\n",
        "  print(n1) "
      ],
      "metadata": {
        "id": "7f7Cnb8bbYaC"
      },
      "execution_count": null,
      "outputs": []
    },
    {
      "cell_type": "code",
      "source": [
        "f1(\"a\",\"b\",n1=10)"
      ],
      "metadata": {
        "colab": {
          "base_uri": "https://localhost:8080/"
        },
        "id": "48Kc4dKCbugO",
        "outputId": "9b7014de-bb7d-49d6-da4f-8469b847b5f1"
      },
      "execution_count": null,
      "outputs": [
        {
          "output_type": "stream",
          "name": "stdout",
          "text": [
            "a\n",
            "b\n",
            "10\n"
          ]
        }
      ]
    },
    {
      "cell_type": "markdown",
      "source": [
        "### Note: We can declare key word variable length arguments also.\n",
        "We can call this function by passing any number of keyword arguments. Internally these keyword arguments will be stored inside a dictionary"
      ],
      "metadata": {
        "id": "zzQuHalGb-ex"
      }
    },
    {
      "cell_type": "code",
      "source": [
        "def display(**kwargs):\n",
        "  for k,v in kwargs.items():\n",
        "      print(k,\"=\",v)"
      ],
      "metadata": {
        "id": "5590WkE6b1oV"
      },
      "execution_count": null,
      "outputs": []
    },
    {
      "cell_type": "code",
      "source": [
        "display(n1=10,n2=20,n3=30)"
      ],
      "metadata": {
        "colab": {
          "base_uri": "https://localhost:8080/"
        },
        "id": "NauiyXTecZiI",
        "outputId": "b338ce84-e708-442b-8ace-ed523d72c086"
      },
      "execution_count": null,
      "outputs": [
        {
          "output_type": "stream",
          "name": "stdout",
          "text": [
            "n1 = 10\n",
            "n2 = 20\n",
            "n3 = 30\n"
          ]
        }
      ]
    },
    {
      "cell_type": "code",
      "source": [
        "display(rno=100,name=\"vinayak\",marks=70,subject=\"java\")"
      ],
      "metadata": {
        "colab": {
          "base_uri": "https://localhost:8080/"
        },
        "id": "EmC58B0AcgtL",
        "outputId": "0d67d8c0-e9de-4d8a-81d9-2cd03e727816"
      },
      "execution_count": null,
      "outputs": [
        {
          "output_type": "stream",
          "name": "stdout",
          "text": [
            "rno = 100\n",
            "name = vinayak\n",
            "marks = 70\n",
            "subject = java\n"
          ]
        }
      ]
    },
    {
      "cell_type": "markdown",
      "source": [
        "### Note: Function vs Module vs Library\n",
        "A group of lines with some name is called a function\n",
        "\n",
        "A group of functions saved to a file, is called Module\n",
        "\n",
        "A group of Modules is nothing but Library"
      ],
      "metadata": {
        "id": "FFbwleuXdGna"
      }
    },
    {
      "cell_type": "markdown",
      "source": [
        "## Types of Variables\n",
        "Python supports 2 types of variables.\n",
        "\n",
        " 1.Global Variables\n",
        " \n",
        " 2.Local Variable"
      ],
      "metadata": {
        "id": "7rowFgTcdMOZ"
      }
    },
    {
      "cell_type": "code",
      "source": [
        "a=10 #global variable(defined outside the function)\n",
        "def f1():\n",
        "  print(a)"
      ],
      "metadata": {
        "id": "SAgdrbr4c76I"
      },
      "execution_count": null,
      "outputs": []
    },
    {
      "cell_type": "code",
      "source": [
        "def f2():\n",
        "  print(a)"
      ],
      "metadata": {
        "id": "5zr0YSmZdm8i"
      },
      "execution_count": null,
      "outputs": []
    },
    {
      "cell_type": "code",
      "source": [
        "f1()\n",
        "f2()"
      ],
      "metadata": {
        "colab": {
          "base_uri": "https://localhost:8080/"
        },
        "id": "jsub3Yh3dsH6",
        "outputId": "6a7da56f-ace6-461e-f5a0-82d76238f0c6"
      },
      "execution_count": null,
      "outputs": [
        {
          "output_type": "stream",
          "name": "stdout",
          "text": [
            "10\n",
            "10\n"
          ]
        }
      ]
    },
    {
      "cell_type": "markdown",
      "source": [
        "Local Variables:\n",
        "\n",
        "The variables which are declared inside a function are called local variables.\n",
        "\n",
        "Local variables are available only for the function in which we declared i"
      ],
      "metadata": {
        "id": "JgRiBBQUd0Bm"
      }
    },
    {
      "cell_type": "code",
      "source": [
        "def f1():\n",
        "  a=10\n",
        "  print(a)"
      ],
      "metadata": {
        "id": "UsE8bEq8dwB0"
      },
      "execution_count": null,
      "outputs": []
    },
    {
      "cell_type": "code",
      "source": [
        "f1()"
      ],
      "metadata": {
        "colab": {
          "base_uri": "https://localhost:8080/"
        },
        "id": "CC8uQAWOeAoj",
        "outputId": "84e3bc91-681f-4687-cf93-b0e689571df4"
      },
      "execution_count": null,
      "outputs": [
        {
          "output_type": "stream",
          "name": "stdout",
          "text": [
            "10\n"
          ]
        }
      ]
    },
    {
      "cell_type": "code",
      "source": [
        "def f22():\n",
        "  print(b)"
      ],
      "metadata": {
        "id": "_Yjwto64eDJr"
      },
      "execution_count": null,
      "outputs": []
    },
    {
      "cell_type": "code",
      "source": [
        "f22()"
      ],
      "metadata": {
        "colab": {
          "base_uri": "https://localhost:8080/",
          "height": 246
        },
        "id": "X4RVhMpueLVy",
        "outputId": "8d747b8d-f1ed-4c06-b876-39246a523e04"
      },
      "execution_count": null,
      "outputs": [
        {
          "output_type": "error",
          "ename": "NameError",
          "evalue": "ignored",
          "traceback": [
            "\u001b[0;31m---------------------------------------------------------------------------\u001b[0m",
            "\u001b[0;31mNameError\u001b[0m                                 Traceback (most recent call last)",
            "\u001b[0;32m<ipython-input-58-655be4f68eb8>\u001b[0m in \u001b[0;36m<module>\u001b[0;34m()\u001b[0m\n\u001b[0;32m----> 1\u001b[0;31m \u001b[0mf22\u001b[0m\u001b[0;34m(\u001b[0m\u001b[0;34m)\u001b[0m\u001b[0;34m\u001b[0m\u001b[0;34m\u001b[0m\u001b[0m\n\u001b[0m",
            "\u001b[0;32m<ipython-input-57-436f5f7ec3d9>\u001b[0m in \u001b[0;36mf22\u001b[0;34m()\u001b[0m\n\u001b[1;32m      1\u001b[0m \u001b[0;32mdef\u001b[0m \u001b[0mf22\u001b[0m\u001b[0;34m(\u001b[0m\u001b[0;34m)\u001b[0m\u001b[0;34m:\u001b[0m\u001b[0;34m\u001b[0m\u001b[0;34m\u001b[0m\u001b[0m\n\u001b[0;32m----> 2\u001b[0;31m   \u001b[0mprint\u001b[0m\u001b[0;34m(\u001b[0m\u001b[0mb\u001b[0m\u001b[0;34m)\u001b[0m\u001b[0;34m\u001b[0m\u001b[0;34m\u001b[0m\u001b[0m\n\u001b[0m",
            "\u001b[0;31mNameError\u001b[0m: name 'b' is not defined"
          ]
        }
      ]
    },
    {
      "cell_type": "code",
      "source": [
        "a= 10 #global variable\n",
        "def f1():\n",
        "  a=777 #local variable\n",
        "  print(a)\n",
        "  print(globals()['a'])"
      ],
      "metadata": {
        "id": "VWWG8A0JeMTx"
      },
      "execution_count": null,
      "outputs": []
    },
    {
      "cell_type": "code",
      "source": [
        "f1()"
      ],
      "metadata": {
        "colab": {
          "base_uri": "https://localhost:8080/"
        },
        "id": "s8iMvMr6ehfx",
        "outputId": "e70a2543-4bad-43f9-d0da-b801ea55470a"
      },
      "execution_count": null,
      "outputs": [
        {
          "output_type": "stream",
          "name": "stdout",
          "text": [
            "777\n",
            "10\n"
          ]
        }
      ]
    },
    {
      "cell_type": "markdown",
      "source": [
        "## **Recursive Function:**\n",
        "A function that calls itself is known as Recursive Function.\n",
        "\n",
        "Main advantages of recursive functions are:\n",
        "\n",
        " 1. We can reduce length of the code and improves readability.\n",
        " 2. We can solve complex problems very easily.\n",
        "E.g.\n",
        "\n",
        "factorial(3) = 3 * factorial(2)\n",
        "\n",
        "= 3 * 2 * factorial(1)\n",
        "\n",
        "=321*factorial(0)\n",
        "\n",
        "=321*1\n",
        "\n",
        "=6\n",
        "factorial(n) = n * factorial(n-1)"
      ],
      "metadata": {
        "id": "2PXrJM84e9D2"
      }
    },
    {
      "cell_type": "code",
      "source": [
        "''' write a python function to find factorial of given number with recursion'''\n",
        "def factorial(n):\n",
        "  if n==0:\n",
        "    result=1\n",
        "  else:\n",
        "    result=n*factorial(n-1)\n",
        "  return result\n",
        "print(\"Factorial of 4 is:\",factorial(4))\n",
        "print(\"Factorial of 5 is:\",factorial(5))"
      ],
      "metadata": {
        "colab": {
          "base_uri": "https://localhost:8080/"
        },
        "id": "zBeg16ulevWp",
        "outputId": "b5686d8a-0501-43cb-f3ea-2b634a137fd3"
      },
      "execution_count": null,
      "outputs": [
        {
          "output_type": "stream",
          "name": "stdout",
          "text": [
            "Factorial of 4 is: 24\n",
            "Factorial of 5 is: 120\n"
          ]
        }
      ]
    },
    {
      "cell_type": "markdown",
      "source": [
        "## Anonymous Functions:(Lambda Function)\n",
        "Sometimes we can declare a function without any name,such type of nameless functions are called anonymous functions or lambda functions.\n",
        "\n",
        "The main purpose of anonymous function is just for instant use(i.e for one time usage)\n",
        "\n",
        "We can define by using lambda keyword\n",
        "\n",
        "lambda n:n*n\n",
        "\n",
        "SyntaxoflambdaFunction:lambda argument_list:expression\n",
        "\n",
        "Note: By using Lambda Functions we can write very concise code so that readability of the program will be improved"
      ],
      "metadata": {
        "id": "b7XNBzJsiLrS"
      }
    },
    {
      "cell_type": "code",
      "source": [
        "'''Q) write a program to create a lambda function to find quare of given number?'''\n",
        "s= lambda n:n*n\n",
        "s(5)# sqr of 5"
      ],
      "metadata": {
        "id": "vcV2kYv0fsGj",
        "colab": {
          "base_uri": "https://localhost:8080/"
        },
        "outputId": "333fd52c-56ba-456a-8ffd-d1d6bc22e407"
      },
      "execution_count": 1,
      "outputs": [
        {
          "output_type": "execute_result",
          "data": {
            "text/plain": [
              "25"
            ]
          },
          "metadata": {},
          "execution_count": 1
        }
      ]
    },
    {
      "cell_type": "code",
      "source": [
        "s(10)"
      ],
      "metadata": {
        "colab": {
          "base_uri": "https://localhost:8080/"
        },
        "id": "Bj7NRE_4jOaP",
        "outputId": "a97e96b5-684e-4f40-f3c3-8d87a5732059"
      },
      "execution_count": 2,
      "outputs": [
        {
          "output_type": "execute_result",
          "data": {
            "text/plain": [
              "100"
            ]
          },
          "metadata": {},
          "execution_count": 2
        }
      ]
    },
    {
      "cell_type": "code",
      "source": [
        "for i in range(9,15):\n",
        " print(\"sqr of \",i,\"is\",s(i))"
      ],
      "metadata": {
        "colab": {
          "base_uri": "https://localhost:8080/"
        },
        "id": "bFs_W-tCjT7p",
        "outputId": "216a6a43-128e-4739-de7c-aa898b03a898"
      },
      "execution_count": 4,
      "outputs": [
        {
          "output_type": "stream",
          "name": "stdout",
          "text": [
            "sqr of  9 is 81\n",
            "sqr of  10 is 100\n",
            "sqr of  11 is 121\n",
            "sqr of  12 is 144\n",
            "sqr of  13 is 169\n",
            "sqr of  14 is 196\n"
          ]
        }
      ]
    },
    {
      "cell_type": "code",
      "source": [
        "print(\"sqre of 15 is:\",s(15))"
      ],
      "metadata": {
        "colab": {
          "base_uri": "https://localhost:8080/"
        },
        "id": "5H2uBD4Kjd37",
        "outputId": "c2e39f0e-18f8-4f7d-f54a-1d01f504eb0c"
      },
      "execution_count": 5,
      "outputs": [
        {
          "output_type": "stream",
          "name": "stdout",
          "text": [
            "sqre of 15 is: 225\n"
          ]
        }
      ]
    },
    {
      "cell_type": "code",
      "source": [
        "''' Q) lambda function to find sum of 2 given numbers'''\n",
        "a= lambda p,q:p+q"
      ],
      "metadata": {
        "id": "FlbcSPXhjuFA"
      },
      "execution_count": 6,
      "outputs": []
    },
    {
      "cell_type": "code",
      "source": [
        "a(15,16)"
      ],
      "metadata": {
        "colab": {
          "base_uri": "https://localhost:8080/"
        },
        "id": "7hYe2WSvj-RZ",
        "outputId": "aa7abac0-af6c-4490-c643-69a45e931865"
      },
      "execution_count": 7,
      "outputs": [
        {
          "output_type": "execute_result",
          "data": {
            "text/plain": [
              "31"
            ]
          },
          "metadata": {},
          "execution_count": 7
        }
      ]
    },
    {
      "cell_type": "code",
      "source": [
        "print(\"the addition of 456 and 126 is:\",a(456,126))"
      ],
      "metadata": {
        "colab": {
          "base_uri": "https://localhost:8080/"
        },
        "id": "jbpGu2BAj_xQ",
        "outputId": "770fdf1b-b639-4deb-8de6-abdacf4da70b"
      },
      "execution_count": 8,
      "outputs": [
        {
          "output_type": "stream",
          "name": "stdout",
          "text": [
            "the addition of 456 and 126 is: 582\n"
          ]
        }
      ]
    },
    {
      "cell_type": "code",
      "source": [
        "# create lambda function for cube\n",
        "cube =lambda c:c**3"
      ],
      "metadata": {
        "id": "avav_jgtlbTX"
      },
      "execution_count": 13,
      "outputs": []
    },
    {
      "cell_type": "code",
      "source": [
        "cube(9)"
      ],
      "metadata": {
        "colab": {
          "base_uri": "https://localhost:8080/"
        },
        "id": "a9TBgwNdlko7",
        "outputId": "17ce1503-efc6-42da-fb2a-ecf25cca1a7b"
      },
      "execution_count": 14,
      "outputs": [
        {
          "output_type": "execute_result",
          "data": {
            "text/plain": [
              "729"
            ]
          },
          "metadata": {},
          "execution_count": 14
        }
      ]
    },
    {
      "cell_type": "code",
      "source": [
        "cube(17)"
      ],
      "metadata": {
        "colab": {
          "base_uri": "https://localhost:8080/"
        },
        "id": "ZeIytPdflqeE",
        "outputId": "5bf2e3bf-575c-44de-ac4b-566b1e5123af"
      },
      "execution_count": 15,
      "outputs": [
        {
          "output_type": "execute_result",
          "data": {
            "text/plain": [
              "4913"
            ]
          },
          "metadata": {},
          "execution_count": 15
        }
      ]
    },
    {
      "cell_type": "code",
      "source": [
        "# lambda function for division\n",
        "div =lambda d,i:d/i"
      ],
      "metadata": {
        "id": "i__pj60sl2-X"
      },
      "execution_count": 16,
      "outputs": []
    },
    {
      "cell_type": "code",
      "source": [
        "div(16,2)"
      ],
      "metadata": {
        "colab": {
          "base_uri": "https://localhost:8080/"
        },
        "id": "tc6_xBjWmCdL",
        "outputId": "2339c106-2638-4b0f-9332-2ec2c09a5182"
      },
      "execution_count": 17,
      "outputs": [
        {
          "output_type": "execute_result",
          "data": {
            "text/plain": [
              "8.0"
            ]
          },
          "metadata": {},
          "execution_count": 17
        }
      ]
    },
    {
      "cell_type": "code",
      "source": [
        "int(div(16,2))"
      ],
      "metadata": {
        "colab": {
          "base_uri": "https://localhost:8080/"
        },
        "id": "cVp2oaTomGk4",
        "outputId": "ba5e7f78-f3b1-434b-94ac-4025c5ba9f68"
      },
      "execution_count": 18,
      "outputs": [
        {
          "output_type": "execute_result",
          "data": {
            "text/plain": [
              "8"
            ]
          },
          "metadata": {},
          "execution_count": 18
        }
      ]
    },
    {
      "cell_type": "code",
      "source": [
        "'''Q) lambda function to find biggest of given values'''\n",
        "a= lambda a,b,c :a if a>b and a>c else b if b>c else c"
      ],
      "metadata": {
        "id": "GyLqaD6akI2L"
      },
      "execution_count": 10,
      "outputs": []
    },
    {
      "cell_type": "code",
      "source": [
        "a(15,14,13)"
      ],
      "metadata": {
        "colab": {
          "base_uri": "https://localhost:8080/"
        },
        "id": "5R2plhOAkp-0",
        "outputId": "365c39a3-6fc1-49a3-b372-aea367dcc581"
      },
      "execution_count": 11,
      "outputs": [
        {
          "output_type": "execute_result",
          "data": {
            "text/plain": [
              "15"
            ]
          },
          "metadata": {},
          "execution_count": 11
        }
      ]
    },
    {
      "cell_type": "code",
      "source": [
        "print(\"the bigget nummber of 45,48,68 is:\",a(45,48,68))"
      ],
      "metadata": {
        "colab": {
          "base_uri": "https://localhost:8080/"
        },
        "id": "CwY9gVJGks0O",
        "outputId": "a612bb82-2112-4d2b-d309-33a997711149"
      },
      "execution_count": 12,
      "outputs": [
        {
          "output_type": "stream",
          "name": "stdout",
          "text": [
            "the bigget nummber of 45,48,68 is: 68\n"
          ]
        }
      ]
    },
    {
      "cell_type": "markdown",
      "source": [
        "Note: Lambda Function internally returns expression value and we are not required to write return statement explicitly.\n",
        "\n",
        "We can use lambda functions very commonly with filter(), map() and reduce() functions, because these functions expect function as argument"
      ],
      "metadata": {
        "id": "Eera8OY-lMiC"
      }
    },
    {
      "cell_type": "markdown",
      "source": [
        "# **filter() Function:**\n",
        "We can use filter() function to filter values from the given sequence based on some condition.\n",
        "\n",
        "**syntax: filter(function,sequence)**\n",
        "\n",
        "Where Function Argument is responsible to perform conditional check Sequence can be List OR Tuple OR String"
      ],
      "metadata": {
        "id": "KJbwe2lymTLi"
      }
    },
    {
      "cell_type": "code",
      "source": [
        "# without lambda function\n",
        "def even(n):\n",
        "  if n%2==0:\n",
        "    return True\n",
        "  else:\n",
        "    return False"
      ],
      "metadata": {
        "id": "DnWxLY8rlIUl"
      },
      "execution_count": 19,
      "outputs": []
    },
    {
      "cell_type": "code",
      "source": [
        "l=[10,15,41,2,16,86,19]\n",
        "l1= list(filter(even,l))\n",
        "print(l1)"
      ],
      "metadata": {
        "colab": {
          "base_uri": "https://localhost:8080/"
        },
        "id": "YFTTeNI6m5MB",
        "outputId": "3a9145e4-77e8-4c37-b044-e92c830a2493"
      },
      "execution_count": 20,
      "outputs": [
        {
          "output_type": "stream",
          "name": "stdout",
          "text": [
            "[10, 2, 16, 86]\n"
          ]
        }
      ]
    },
    {
      "cell_type": "code",
      "source": [
        "# with lambda function\n",
        "l=[12,14,34,54,65,75,97]\n",
        "x= list(filter(lambda x:x%2==0,l))\n",
        "print(x)"
      ],
      "metadata": {
        "colab": {
          "base_uri": "https://localhost:8080/"
        },
        "id": "Xorbydb0nEOV",
        "outputId": "a2ba0c27-5762-4087-ba4e-2e8b197f4923"
      },
      "execution_count": 22,
      "outputs": [
        {
          "output_type": "stream",
          "name": "stdout",
          "text": [
            "[12, 14, 34, 54]\n"
          ]
        }
      ]
    },
    {
      "cell_type": "code",
      "source": [
        "x= list(filter(lambda x:x%2!=0,l))\n",
        "print(x)"
      ],
      "metadata": {
        "colab": {
          "base_uri": "https://localhost:8080/"
        },
        "id": "WqnxPnxVna-a",
        "outputId": "083a33a5-217d-4601-e7f9-6b0326729df5"
      },
      "execution_count": 23,
      "outputs": [
        {
          "output_type": "stream",
          "name": "stdout",
          "text": [
            "[65, 75, 97]\n"
          ]
        }
      ]
    },
    {
      "cell_type": "code",
      "source": [
        "l= list(eval(input(\"enter lis:\")))\n",
        "print(l)"
      ],
      "metadata": {
        "colab": {
          "base_uri": "https://localhost:8080/"
        },
        "id": "UOwUsksmnmRv",
        "outputId": "c38dfc51-1ddc-49f6-846f-8e54861c0ad3"
      },
      "execution_count": 26,
      "outputs": [
        {
          "output_type": "stream",
          "name": "stdout",
          "text": [
            "enter lis:1,2,3,4\n",
            "[1, 2, 3, 4]\n"
          ]
        }
      ]
    },
    {
      "cell_type": "markdown",
      "source": [
        "# **map() Function:**\n",
        "For every element present in the given sequence,apply some functionality and generate new element with the required modification. For this requirement we should go for map() function.\n",
        "\n",
        "Eg: For every element present in the list perform double and generate new list of doubles.\n",
        "\n",
        "**Syntax: map(function, sequence)**\n",
        "\n",
        "The function can be applied on each element of sequence and generates new sequence."
      ],
      "metadata": {
        "id": "J8x42kUxoCEL"
      }
    },
    {
      "cell_type": "code",
      "source": [
        "lst= [10,12,15,46,15,17,19,13]\n",
        "def odd(x):\n",
        "  if x%2==0:\n",
        "    return False\n",
        "  else:\n",
        "    return True"
      ],
      "metadata": {
        "id": "UdiJ_e-An4vK"
      },
      "execution_count": 28,
      "outputs": []
    },
    {
      "cell_type": "code",
      "source": [
        "list1= map(odd,lst)\n",
        "print(list(list1))"
      ],
      "metadata": {
        "colab": {
          "base_uri": "https://localhost:8080/"
        },
        "id": "tyIrrJHTs6al",
        "outputId": "90e5d1ea-021a-4e44-9ac4-e5a5ec33fc7b"
      },
      "execution_count": 30,
      "outputs": [
        {
          "output_type": "stream",
          "name": "stdout",
          "text": [
            "[False, False, True, False, True, True, True, True]\n"
          ]
        }
      ]
    },
    {
      "cell_type": "code",
      "source": [
        "list2= filter(odd,lst)\n",
        "list(list2)"
      ],
      "metadata": {
        "colab": {
          "base_uri": "https://localhost:8080/"
        },
        "id": "5ZHojU6gtDQc",
        "outputId": "985513c4-6fc8-4852-d639-a2b6bf2bcc73"
      },
      "execution_count": 32,
      "outputs": [
        {
          "output_type": "execute_result",
          "data": {
            "text/plain": [
              "[15, 15, 17, 19, 13]"
            ]
          },
          "metadata": {},
          "execution_count": 32
        }
      ]
    },
    {
      "cell_type": "code",
      "source": [
        "# without lambda\n",
        "l=[1,2,3,4,5,6]\n",
        "def doubleit(x):\n",
        "  return 2*x\n",
        "l1=list(map(doubleit,l))\n",
        "print(l1)"
      ],
      "metadata": {
        "colab": {
          "base_uri": "https://localhost:8080/"
        },
        "id": "snMFGfCxtRmT",
        "outputId": "8f53aa2f-406c-4768-e5d6-65e6c29d9f96"
      },
      "execution_count": 35,
      "outputs": [
        {
          "output_type": "stream",
          "name": "stdout",
          "text": [
            "[2, 4, 6, 8, 10, 12]\n"
          ]
        }
      ]
    },
    {
      "cell_type": "markdown",
      "source": [
        "# **reduce() Function:**\n",
        "reduce() function reduces sequence of elements into a single element by applying the specified function.\n",
        "\n",
        "**syntax: reduce(function,sequence)**\n",
        "\n",
        "reduce() function present in functools module and hence we should write import statement"
      ],
      "metadata": {
        "id": "H1hjgH8PuE-y"
      }
    },
    {
      "cell_type": "code",
      "source": [
        "from functools import*\n",
        "l=[10,20,30,40,50]\n",
        "result=reduce(lambda x,y:x+y,l)\n",
        "print(result)"
      ],
      "metadata": {
        "colab": {
          "base_uri": "https://localhost:8080/"
        },
        "id": "fyV_gYTBtyBa",
        "outputId": "6edc7818-ddfb-4170-f0a1-608969e2395f"
      },
      "execution_count": 36,
      "outputs": [
        {
          "output_type": "stream",
          "name": "stdout",
          "text": [
            "150\n"
          ]
        }
      ]
    },
    {
      "cell_type": "code",
      "source": [
        "result=reduce(lambda x,y:x*y,l)\n",
        "print(result)"
      ],
      "metadata": {
        "colab": {
          "base_uri": "https://localhost:8080/"
        },
        "id": "f4wDFdY5ugW7",
        "outputId": "f9018746-959a-41c8-a875-553ca1bc441b"
      },
      "execution_count": 37,
      "outputs": [
        {
          "output_type": "stream",
          "name": "stdout",
          "text": [
            "12000000\n"
          ]
        }
      ]
    },
    {
      "cell_type": "markdown",
      "source": [
        "## **Function Aliasing:**\n",
        "For the existing function we can give another name, which is nothing but function aliasing."
      ],
      "metadata": {
        "id": "IT5dD4Mnu5VG"
      }
    },
    {
      "cell_type": "code",
      "source": [
        "def wish(name):\n",
        "  print(\"good morning\",name)\n",
        "greeting=wish\n",
        "print(id(wish))\n",
        "print(id(greeting))\n",
        "greeting('akash')\n",
        "wish('akash')"
      ],
      "metadata": {
        "colab": {
          "base_uri": "https://localhost:8080/"
        },
        "id": "v8wplwWju0Br",
        "outputId": "66533c8b-ccdf-40de-8c2b-71dff08ace4d"
      },
      "execution_count": 39,
      "outputs": [
        {
          "output_type": "stream",
          "name": "stdout",
          "text": [
            "139989678149504\n",
            "139989678149504\n",
            "good morning akash\n",
            "good morning akash\n"
          ]
        }
      ]
    },
    {
      "cell_type": "markdown",
      "source": [
        "'In the above example only one function is available \\nbut we can call that function by using either wish name or greeting name.'\n"
      ],
      "metadata": {
        "id": "KwmzHTqrver_"
      }
    },
    {
      "cell_type": "code",
      "source": [
        ""
      ],
      "metadata": {
        "id": "uYhnQPfXvRGK"
      },
      "execution_count": null,
      "outputs": []
    }
  ]
}