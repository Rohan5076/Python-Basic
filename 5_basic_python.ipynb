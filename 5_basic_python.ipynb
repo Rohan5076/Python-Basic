{
  "nbformat": 4,
  "nbformat_minor": 0,
  "metadata": {
    "colab": {
      "name": "5_basic_python.ipynb",
      "provenance": [],
      "authorship_tag": "ABX9TyM3TWDLE5gIuYxehVs6HyQx",
      "include_colab_link": true
    },
    "kernelspec": {
      "name": "python3",
      "display_name": "Python 3"
    },
    "language_info": {
      "name": "python"
    }
  },
  "cells": [
    {
      "cell_type": "markdown",
      "metadata": {
        "id": "view-in-github",
        "colab_type": "text"
      },
      "source": [
        "<a href=\"https://colab.research.google.com/github/krio5076/Python-Basic/blob/main/5_basic_python.ipynb\" target=\"_parent\"><img src=\"https://colab.research.google.com/assets/colab-badge.svg\" alt=\"Open In Colab\"/></a>"
      ]
    },
    {
      "cell_type": "markdown",
      "source": [
        "# String\n",
        "Any sequence of characters within either single quotes or double quotes is considered as a String.\n",
        "\n",
        "We can define multi-line String literals by using triple single or double quotes.\n",
        "\n",
        "We can also use triple quotes to use single quotes or double quotes as symbol inside String literal"
      ],
      "metadata": {
        "id": "lwRyr_1PN0I0"
      }
    },
    {
      "cell_type": "code",
      "execution_count": null,
      "metadata": {
        "id": "cLir6-6b1yI9"
      },
      "outputs": [],
      "source": [
        "s='data science'\n",
        "s=\"\"\"data\"\"\"\n",
        "a=\"\"\"this  is a data science course\"\"\""
      ]
    },
    {
      "cell_type": "markdown",
      "source": [
        "## **How to access characters of a string?**\n",
        "We can access characters of a string by using the following ways.\n",
        "\n",
        "1.By using index\n",
        "2.By using slice operator"
      ],
      "metadata": {
        "id": "ParynZUcOHdE"
      }
    },
    {
      "cell_type": "code",
      "source": [
        "#1.accessing character by using index\n",
        "s='data science'\n",
        "s[0]"
      ],
      "metadata": {
        "colab": {
          "base_uri": "https://localhost:8080/",
          "height": 36
        },
        "id": "kjzJXOXuOSB_",
        "outputId": "27cf7cd4-bdd5-40b9-ffca-5fcd81520fab"
      },
      "execution_count": null,
      "outputs": [
        {
          "output_type": "execute_result",
          "data": {
            "text/plain": [
              "'d'"
            ],
            "application/vnd.google.colaboratory.intrinsic+json": {
              "type": "string"
            }
          },
          "metadata": {},
          "execution_count": 3
        }
      ]
    },
    {
      "cell_type": "code",
      "source": [
        "a=\"\"\"this  is a data science course\"\"\"\n",
        "a[-1]"
      ],
      "metadata": {
        "colab": {
          "base_uri": "https://localhost:8080/",
          "height": 36
        },
        "id": "JPxbrHtvOcel",
        "outputId": "0ee103c9-a3d5-4c14-815b-97b70404c6ba"
      },
      "execution_count": null,
      "outputs": [
        {
          "output_type": "execute_result",
          "data": {
            "text/plain": [
              "'e'"
            ],
            "application/vnd.google.colaboratory.intrinsic+json": {
              "type": "string"
            }
          },
          "metadata": {},
          "execution_count": 4
        }
      ]
    },
    {
      "cell_type": "code",
      "source": [
        "#2.accessing characters by using slice operator\n",
        "#syntax: s[begin index : end index :step]\n",
        "s=\"learning python is very easy!!!\"\n",
        "s[1:7:1]"
      ],
      "metadata": {
        "colab": {
          "base_uri": "https://localhost:8080/",
          "height": 36
        },
        "id": "GaNyA7XFO_Ac",
        "outputId": "310e179d-6c65-4236-c92a-52a91fa110ef"
      },
      "execution_count": null,
      "outputs": [
        {
          "output_type": "execute_result",
          "data": {
            "text/plain": [
              "'earnin'"
            ],
            "application/vnd.google.colaboratory.intrinsic+json": {
              "type": "string"
            }
          },
          "metadata": {},
          "execution_count": 5
        }
      ]
    },
    {
      "cell_type": "code",
      "source": [
        "s[::]"
      ],
      "metadata": {
        "colab": {
          "base_uri": "https://localhost:8080/",
          "height": 36
        },
        "id": "bVnMqBRqPqdO",
        "outputId": "7569c748-716a-4f43-b5ea-c28a1b1152ca"
      },
      "execution_count": null,
      "outputs": [
        {
          "output_type": "execute_result",
          "data": {
            "text/plain": [
              "'learning python is very easy!!!'"
            ],
            "application/vnd.google.colaboratory.intrinsic+json": {
              "type": "string"
            }
          },
          "metadata": {},
          "execution_count": 6
        }
      ]
    },
    {
      "cell_type": "code",
      "source": [
        "s[::-1]"
      ],
      "metadata": {
        "colab": {
          "base_uri": "https://localhost:8080/",
          "height": 36
        },
        "id": "5eZ1bGAePtPa",
        "outputId": "350ccf68-f08b-4679-b979-8c127a732074"
      },
      "execution_count": null,
      "outputs": [
        {
          "output_type": "execute_result",
          "data": {
            "text/plain": [
              "'!!!ysae yrev si nohtyp gninrael'"
            ],
            "application/vnd.google.colaboratory.intrinsic+json": {
              "type": "string"
            }
          },
          "metadata": {},
          "execution_count": 7
        }
      ]
    },
    {
      "cell_type": "code",
      "source": [
        "#note :slice operator never raises Index error\n",
        "s[100:2:-1]"
      ],
      "metadata": {
        "colab": {
          "base_uri": "https://localhost:8080/",
          "height": 36
        },
        "id": "iJIXJ1F0PxvX",
        "outputId": "f3d1546c-8ea2-4817-9679-36f1b0d9e48f"
      },
      "execution_count": null,
      "outputs": [
        {
          "output_type": "execute_result",
          "data": {
            "text/plain": [
              "'!!!ysae yrev si nohtyp gninr'"
            ],
            "application/vnd.google.colaboratory.intrinsic+json": {
              "type": "string"
            }
          },
          "metadata": {},
          "execution_count": 8
        }
      ]
    },
    {
      "cell_type": "markdown",
      "source": [
        "Q)Write a Program to access each Character of String in Forward and Backward Direction by using while Loop?"
      ],
      "metadata": {
        "id": "Ew_cl6cnQJOb"
      }
    },
    {
      "cell_type": "code",
      "source": [
        "s=\"learning python is very easy!!\"\n",
        "n=len(s)\n",
        "i=0\n",
        "print(\"forward direstion\")\n",
        "while i<n:\n",
        "  print(s[i],end='')\n",
        "  i+=1\n",
        "print(\"backward direction\")\n",
        "i=-1\n",
        "while i>=-n:\n",
        "  print(s[i],end='')\n",
        "  i-=1"
      ],
      "metadata": {
        "id": "VXI2bdfWQBae",
        "colab": {
          "base_uri": "https://localhost:8080/"
        },
        "outputId": "1dbe8647-d563-4ddc-a280-cf1acdc60076"
      },
      "execution_count": 1,
      "outputs": [
        {
          "output_type": "stream",
          "name": "stdout",
          "text": [
            "forward direstion\n",
            "learning python is very easy!!backward direction\n",
            "!!ysae yrev si nohtyp gninrael"
          ]
        }
      ]
    },
    {
      "cell_type": "markdown",
      "source": [
        "# Checking Membership:\n",
        "We can check whether the character or string is the member of another string or not by using in and not in operators."
      ],
      "metadata": {
        "id": "wbhXbmZRGPHM"
      }
    },
    {
      "cell_type": "code",
      "source": [
        "s=\"data\"\n",
        "'d' in s"
      ],
      "metadata": {
        "colab": {
          "base_uri": "https://localhost:8080/"
        },
        "id": "yvUjygEDGT1J",
        "outputId": "7df2fe3b-0a91-4be9-ff3f-a8311a8d6820"
      },
      "execution_count": 21,
      "outputs": [
        {
          "output_type": "execute_result",
          "data": {
            "text/plain": [
              "True"
            ]
          },
          "metadata": {},
          "execution_count": 21
        }
      ]
    },
    {
      "cell_type": "markdown",
      "source": [
        "# **Comparison of Strings**\n",
        "We can use comparison operators (<, <=, >, >=) and equality operators (==, !=) for strings."
      ],
      "metadata": {
        "id": "vY2TWl-VIb-r"
      }
    },
    {
      "cell_type": "code",
      "source": [
        "s1= input(\"enter first string:\")\n",
        "s2= input(\"enter second string:\")\n",
        "if  s1==s2:\n",
        "  print(\"both string are equal\")\n",
        "elif s1<s2:\n",
        "  print(\"first string is less than second string\")\n",
        "else:\n",
        "   print(\"second string is less than first string\")\n"
      ],
      "metadata": {
        "colab": {
          "base_uri": "https://localhost:8080/"
        },
        "id": "E1dYBS5lGEfi",
        "outputId": "7e2ec3b7-ab64-4ec4-8d3f-9fc093529e6b"
      },
      "execution_count": 22,
      "outputs": [
        {
          "output_type": "stream",
          "name": "stdout",
          "text": [
            "enter first string:data\n",
            "enter second string:sceince\n",
            "first string is less than second string\n"
          ]
        }
      ]
    },
    {
      "cell_type": "markdown",
      "source": [
        "# **Removing Spaces from the String:**\n",
        "1)rstrip()-->To remove spaces at right hand side.\n",
        "\n",
        "2) lstrip()--> To remove spaces at left hand side.\n",
        "\n",
        "3) strip()-->To remove spaces both sides."
      ],
      "metadata": {
        "id": "EZ7cfz9ULDLS"
      }
    },
    {
      "cell_type": "code",
      "source": [
        "city= input(\"enter your city name:\")\n",
        "scity=city.strip()\n",
        "if scity=='hyderabad':\n",
        "  print(\"Hello Hyderbadi..Adab\")\n",
        "elif scity==\"chennai\":\n",
        "  print(\"Hello Madrasi...Vanakkam\")\n",
        "elif scity==\"banglore\":\n",
        "  print(\"hello kannadiga...shubhodaya\")\n",
        "else:\n",
        "  print(\"your entered city is invalid\")"
      ],
      "metadata": {
        "colab": {
          "base_uri": "https://localhost:8080/"
        },
        "id": "IMa7NqkrK7ML",
        "outputId": "07eb63a5-6c14-4a8a-c46c-9fe51a4aa614"
      },
      "execution_count": 24,
      "outputs": [
        {
          "output_type": "stream",
          "name": "stdout",
          "text": [
            "enter your city name:banglore\n",
            "hello kannadiga...shubhodaya\n"
          ]
        }
      ]
    },
    {
      "cell_type": "code",
      "source": [
        "s=\" data \"\n",
        "s.strip()"
      ],
      "metadata": {
        "colab": {
          "base_uri": "https://localhost:8080/",
          "height": 36
        },
        "id": "8UgNPk8hMwMa",
        "outputId": "8ab0e044-7bb9-4536-bf9c-4fb5d96ae524"
      },
      "execution_count": 25,
      "outputs": [
        {
          "output_type": "execute_result",
          "data": {
            "text/plain": [
              "'data'"
            ],
            "application/vnd.google.colaboratory.intrinsic+json": {
              "type": "string"
            }
          },
          "metadata": {},
          "execution_count": 25
        }
      ]
    },
    {
      "cell_type": "code",
      "source": [
        "s.rstrip()"
      ],
      "metadata": {
        "colab": {
          "base_uri": "https://localhost:8080/",
          "height": 36
        },
        "id": "CfpO3cvaNDJx",
        "outputId": "e87e1122-dd5e-489b-e256-f2244866b270"
      },
      "execution_count": 26,
      "outputs": [
        {
          "output_type": "execute_result",
          "data": {
            "text/plain": [
              "' data'"
            ],
            "application/vnd.google.colaboratory.intrinsic+json": {
              "type": "string"
            }
          },
          "metadata": {},
          "execution_count": 26
        }
      ]
    },
    {
      "cell_type": "markdown",
      "source": [
        "# **Finding Substrings:**\n",
        "We can use the following 4 methods\n",
        "\n",
        "For forward direction:\n",
        "\n",
        "1) find()\n",
        "\n",
        "2) index()\n",
        "\n",
        "For backward direction:\n",
        "\n",
        "1) rfind()\n",
        "\n",
        "2) rindex()"
      ],
      "metadata": {
        "id": "uUG2fT8HNd5T"
      }
    },
    {
      "cell_type": "code",
      "source": [
        "#find(): returns index of first string occurrence of the given substring if it is not available then we will get -1.\n",
        "s=\"data\"\n",
        "s.find(\"data\") #0th index"
      ],
      "metadata": {
        "colab": {
          "base_uri": "https://localhost:8080/"
        },
        "id": "9NMCVemxNZdx",
        "outputId": "4f7ce10e-f352-495e-92a1-33e0e7d8fe40"
      },
      "execution_count": 27,
      "outputs": [
        {
          "output_type": "execute_result",
          "data": {
            "text/plain": [
              "0"
            ]
          },
          "metadata": {},
          "execution_count": 27
        }
      ]
    },
    {
      "cell_type": "code",
      "source": [
        "#syntax :s.find(substring,begin,end)\n",
        "s.find(\"a\",1,4)"
      ],
      "metadata": {
        "colab": {
          "base_uri": "https://localhost:8080/"
        },
        "id": "szDyOBEbOHNo",
        "outputId": "f4b4a779-adf7-4c1f-965a-3de7606c1b75"
      },
      "execution_count": 28,
      "outputs": [
        {
          "output_type": "execute_result",
          "data": {
            "text/plain": [
              "1"
            ]
          },
          "metadata": {},
          "execution_count": 28
        }
      ]
    },
    {
      "cell_type": "markdown",
      "source": [
        "2)index()\n",
        "\n",
        "index() method is exactly same as find() method except that if the specified substring is not available then we will get ValueError.\n",
        "\n"
      ],
      "metadata": {
        "id": "tRh4kyFrOn25"
      }
    },
    {
      "cell_type": "code",
      "source": [
        "#we will get value error if the substring is not available\n",
        "s.index('m')"
      ],
      "metadata": {
        "colab": {
          "base_uri": "https://localhost:8080/",
          "height": 190
        },
        "id": "4bLomp2POb8B",
        "outputId": "58ce5ab6-54e3-42e4-c41a-20453475080f"
      },
      "execution_count": 29,
      "outputs": [
        {
          "output_type": "error",
          "ename": "ValueError",
          "evalue": "ignored",
          "traceback": [
            "\u001b[0;31m---------------------------------------------------------------------------\u001b[0m",
            "\u001b[0;31mValueError\u001b[0m                                Traceback (most recent call last)",
            "\u001b[0;32m<ipython-input-29-a60cd0d9e78d>\u001b[0m in \u001b[0;36m<module>\u001b[0;34m()\u001b[0m\n\u001b[1;32m      1\u001b[0m \u001b[0;31m#we will get error if the substring is not available\u001b[0m\u001b[0;34m\u001b[0m\u001b[0;34m\u001b[0m\u001b[0;34m\u001b[0m\u001b[0m\n\u001b[0;32m----> 2\u001b[0;31m \u001b[0ms\u001b[0m\u001b[0;34m.\u001b[0m\u001b[0mindex\u001b[0m\u001b[0;34m(\u001b[0m\u001b[0;34m'm'\u001b[0m\u001b[0;34m)\u001b[0m\u001b[0;34m\u001b[0m\u001b[0;34m\u001b[0m\u001b[0m\n\u001b[0m",
            "\u001b[0;31mValueError\u001b[0m: substring not found"
          ]
        }
      ]
    },
    {
      "cell_type": "code",
      "source": [
        "s.index('a')"
      ],
      "metadata": {
        "colab": {
          "base_uri": "https://localhost:8080/"
        },
        "id": "mIT1DuYqPJQj",
        "outputId": "e8183009-a8f3-4b34-b352-4f91e10f9a84"
      },
      "execution_count": 30,
      "outputs": [
        {
          "output_type": "execute_result",
          "data": {
            "text/plain": [
              "1"
            ]
          },
          "metadata": {},
          "execution_count": 30
        }
      ]
    },
    {
      "cell_type": "markdown",
      "source": [
        "Q) Program to display all Positions of Substring in a given Main String\n"
      ],
      "metadata": {
        "id": "pD01AfpKPY1i"
      }
    },
    {
      "cell_type": "code",
      "source": [
        "s= input(\"enter main string: \")\n",
        "subs=input(\"enter sub string: \")\n",
        "flag=False\n",
        "pos=-1\n",
        "n=len(s)\n",
        "while True:\n",
        "  pos=s.find(subs,pos+1,n)\n",
        "  if pos==-1:\n",
        "    break\n",
        "  print(\"found at position\",pos)\n",
        "  flag=True\n",
        "if flag==False:\n",
        "  print(\"not found\")"
      ],
      "metadata": {
        "colab": {
          "base_uri": "https://localhost:8080/"
        },
        "id": "K30v97nTPRvy",
        "outputId": "56954737-20d0-4731-bf2a-63f42174faa8"
      },
      "execution_count": 36,
      "outputs": [
        {
          "output_type": "stream",
          "name": "stdout",
          "text": [
            "enter main string: pyton is god langaheew\n",
            "enter sub string: is\n",
            "found at position 6\n"
          ]
        }
      ]
    },
    {
      "cell_type": "markdown",
      "source": [
        "# Count substring in the given String:\n",
        "\n",
        "We can find the number of occurrences of substring present in the given string by using\n",
        "count() method.\n",
        "\n",
        "s.count(substring)-->It will search through out the string.\n",
        "\n",
        "s.count(substring, bEgin, end)-->It will search from bEgin index to end-1 index.\n"
      ],
      "metadata": {
        "id": "xZo0WWcKZdXS"
      }
    },
    {
      "cell_type": "code",
      "source": [
        "s=\"abcabcabcabcadda\"\n",
        "print(s.count('b'))"
      ],
      "metadata": {
        "colab": {
          "base_uri": "https://localhost:8080/"
        },
        "id": "U7aBM_9HZNQp",
        "outputId": "fc66bec5-6855-475e-d4f2-840a2293107a"
      },
      "execution_count": 37,
      "outputs": [
        {
          "output_type": "stream",
          "name": "stdout",
          "text": [
            "4\n"
          ]
        }
      ]
    },
    {
      "cell_type": "markdown",
      "source": [
        "# Replacing a String with another String:\n",
        "\n",
        " s.replace(oldstring, newstring)\n",
        "\n",
        "Inside s, every occurrence of old String will be replaced with new String."
      ],
      "metadata": {
        "id": "akf_gTC3aGSB"
      }
    },
    {
      "cell_type": "code",
      "source": [
        "s= \"learning python is very difficult\"\n",
        "s1 = s.replace(\"difficult\",\"easy\")\n",
        "s1"
      ],
      "metadata": {
        "colab": {
          "base_uri": "https://localhost:8080/",
          "height": 36
        },
        "id": "AWqZmFFaR-L2",
        "outputId": "8f015084-002c-4b04-b8a2-108b90155b37"
      },
      "execution_count": 40,
      "outputs": [
        {
          "output_type": "execute_result",
          "data": {
            "text/plain": [
              "'learning python is very easy'"
            ],
            "application/vnd.google.colaboratory.intrinsic+json": {
              "type": "string"
            }
          },
          "metadata": {},
          "execution_count": 40
        }
      ]
    },
    {
      "cell_type": "code",
      "source": [
        "id(s)"
      ],
      "metadata": {
        "colab": {
          "base_uri": "https://localhost:8080/"
        },
        "id": "POuIygfNSrjF",
        "outputId": "045ef225-8377-4c82-8664-73e11fa0cb39"
      },
      "execution_count": 41,
      "outputs": [
        {
          "output_type": "execute_result",
          "data": {
            "text/plain": [
              "140469428252912"
            ]
          },
          "metadata": {},
          "execution_count": 41
        }
      ]
    },
    {
      "cell_type": "code",
      "source": [
        "id(s1)"
      ],
      "metadata": {
        "colab": {
          "base_uri": "https://localhost:8080/"
        },
        "id": "GQg3CtzoTp_X",
        "outputId": "eb89aa1e-243b-4bbb-91f1-2c79324db227"
      },
      "execution_count": 43,
      "outputs": [
        {
          "output_type": "execute_result",
          "data": {
            "text/plain": [
              "140469428402416"
            ]
          },
          "metadata": {},
          "execution_count": 43
        }
      ]
    },
    {
      "cell_type": "markdown",
      "source": [
        "# Splitting of Strings:\n",
        "We can split the given string according to specified seperator by using split() method.\n",
        "\n",
        "Syntax: l = s.split(seperator)"
      ],
      "metadata": {
        "id": "o-LRSSQ5Ty4P"
      }
    },
    {
      "cell_type": "code",
      "source": [
        "s=\"22-02-2018\"\n",
        "l=s.split('-')\n",
        "print(l)\n",
        "for x in l:\n",
        "  print(x)"
      ],
      "metadata": {
        "colab": {
          "base_uri": "https://localhost:8080/"
        },
        "id": "azHPdnM6TrbN",
        "outputId": "26731208-5378-4d8d-ccf6-715de3816550"
      },
      "execution_count": 44,
      "outputs": [
        {
          "output_type": "stream",
          "name": "stdout",
          "text": [
            "['22', '02', '2018']\n",
            "22\n",
            "02\n",
            "2018\n"
          ]
        }
      ]
    },
    {
      "cell_type": "code",
      "source": [
        "l"
      ],
      "metadata": {
        "colab": {
          "base_uri": "https://localhost:8080/"
        },
        "id": "WVrEjAHpUJ3X",
        "outputId": "b7b70768-05b3-4042-9c0f-6313a7244680"
      },
      "execution_count": 45,
      "outputs": [
        {
          "output_type": "execute_result",
          "data": {
            "text/plain": [
              "['22', '02', '2018']"
            ]
          },
          "metadata": {},
          "execution_count": 45
        }
      ]
    },
    {
      "cell_type": "markdown",
      "source": [
        "# **#joining of string**\n",
        "s=seperator.join(group of string)"
      ],
      "metadata": {
        "id": "lo96-1srUUQt"
      }
    },
    {
      "cell_type": "code",
      "source": [
        "list1=[\"data\",\"science\",\"ai\"]\n",
        "s3=\"_\".join(list1)\n",
        "s3"
      ],
      "metadata": {
        "colab": {
          "base_uri": "https://localhost:8080/",
          "height": 36
        },
        "id": "YDX_DdYwUMCx",
        "outputId": "874c1b10-b88e-4935-e010-a1ae2f2aa580"
      },
      "execution_count": 47,
      "outputs": [
        {
          "output_type": "execute_result",
          "data": {
            "text/plain": [
              "'data_science_ai'"
            ],
            "application/vnd.google.colaboratory.intrinsic+json": {
              "type": "string"
            }
          },
          "metadata": {},
          "execution_count": 47
        }
      ]
    },
    {
      "cell_type": "markdown",
      "source": [
        "# Changing the case of a string:\n",
        "upper()-->To convert all characters to upper case.\n",
        "\n",
        "lower()-->To convert all characters to lower case.\n",
        "\n",
        "swapcase() --> Converts all lower case characters to upper case and all upper case characters to lower case\n",
        "\n",
        "title() --> To convert all character to title case. i.e first character in every word should be upper case and all remaining characters should be in lower case.\n",
        "\n",
        "capitalize() --> Only first character will be converted to upper case and all remaining characters can be converted to lower case."
      ],
      "metadata": {
        "id": "t0Yw3m9MVAuD"
      }
    },
    {
      "cell_type": "code",
      "source": [
        "s=\"Learning Python is very Easy\"\n",
        "print(s.upper())\n",
        "print(s.lower())\n",
        "print(s.swapcase())\n",
        "print(s.title())\n",
        "print(s.capitalize())"
      ],
      "metadata": {
        "colab": {
          "base_uri": "https://localhost:8080/"
        },
        "id": "sHsdDZvDU2QD",
        "outputId": "e86f86c3-c73e-491c-95a2-13e789af4d9a"
      },
      "execution_count": 50,
      "outputs": [
        {
          "output_type": "stream",
          "name": "stdout",
          "text": [
            "LEARNING PYTHON IS VERY EASY\n",
            "learning python is very easy\n",
            "lEARNING pYTHON IS VERY eASY\n",
            "Learning Python Is Very Easy\n",
            "Learning python is very easy\n"
          ]
        }
      ]
    },
    {
      "cell_type": "markdown",
      "source": [
        "# Checking Starting and Ending Part of the String:\n",
        "Python contains the following methods for this purpose.\n",
        "\n",
        "s.startswith(substring)\n",
        "\n",
        "s.endswith(substring)"
      ],
      "metadata": {
        "id": "uUF3KzwMV5wK"
      }
    },
    {
      "cell_type": "code",
      "source": [
        "s=\"learning python is very easy\"\n",
        "print(s.startswith(\"learning\"))\n",
        "print(s.endswith(\"learning\"))\n",
        "print(s.endswith(\"easy\"))"
      ],
      "metadata": {
        "colab": {
          "base_uri": "https://localhost:8080/"
        },
        "id": "t77V4E0AVnHy",
        "outputId": "2350206b-0ac3-42a0-db36-7cee5cdc15cd"
      },
      "execution_count": 51,
      "outputs": [
        {
          "output_type": "stream",
          "name": "stdout",
          "text": [
            "True\n",
            "False\n",
            "True\n"
          ]
        }
      ]
    },
    {
      "cell_type": "markdown",
      "source": [
        "# To Check Type of Characters Present in a String:\n",
        "Python contains the following methods for this purpose.\n",
        "\n",
        "isalnum(): Returns True if all characters are alphanumeric( a to z , A to Z ,0 to9 ).\n",
        "\n",
        "isalpha(): Returns True if all characters are only alphabet symbols(a to z,A to Z)\n",
        "\n",
        "isdigit(): Returns True if all characters are digits only( 0 to 9)\n",
        "\n",
        "islower(): Returns True if all characters are lower case alphabet symbols\n",
        "\n",
        "isupper(): Returns True if all characters are upper case aplhabet symbols\n",
        "\n",
        "istitle(): Returns True if string is in title case\n",
        "\n",
        "isspace(): Returns True if string contains only spaces"
      ],
      "metadata": {
        "id": "5YKVwS6dWd-H"
      }
    },
    {
      "cell_type": "code",
      "source": [
        "print(\"datacience786\".isalnum())#true"
      ],
      "metadata": {
        "colab": {
          "base_uri": "https://localhost:8080/"
        },
        "id": "_sMCrAI4WYam",
        "outputId": "cbc6518c-4eba-4aa1-db16-4c10c489c251"
      },
      "execution_count": 52,
      "outputs": [
        {
          "output_type": "stream",
          "name": "stdout",
          "text": [
            "True\n"
          ]
        }
      ]
    },
    {
      "cell_type": "code",
      "source": [
        "print(\"Abc\".islower())"
      ],
      "metadata": {
        "colab": {
          "base_uri": "https://localhost:8080/"
        },
        "id": "KOb-3rTiWyy8",
        "outputId": "75cf63a6-b940-4f0f-eaa4-fe80b6be5859"
      },
      "execution_count": 53,
      "outputs": [
        {
          "output_type": "stream",
          "name": "stdout",
          "text": [
            "False\n"
          ]
        }
      ]
    },
    {
      "cell_type": "code",
      "source": [
        "print(\"learning python is easy\".istitle())"
      ],
      "metadata": {
        "colab": {
          "base_uri": "https://localhost:8080/"
        },
        "id": "HTDRtxSRW7h1",
        "outputId": "3cf81210-7081-44a9-e04a-63ea744eec2c"
      },
      "execution_count": 54,
      "outputs": [
        {
          "output_type": "stream",
          "name": "stdout",
          "text": [
            "False\n"
          ]
        }
      ]
    },
    {
      "cell_type": "code",
      "source": [
        "print(\"Python I Python\".istitle())"
      ],
      "metadata": {
        "colab": {
          "base_uri": "https://localhost:8080/"
        },
        "id": "MQ2_jQy0XEcL",
        "outputId": "8ac29a31-c343-45ae-fed9-7a05d0308428"
      },
      "execution_count": 55,
      "outputs": [
        {
          "output_type": "stream",
          "name": "stdout",
          "text": [
            "True\n"
          ]
        }
      ]
    },
    {
      "cell_type": "markdown",
      "source": [
        "# Formatting the Strings:\n",
        "We can format the strings with variable values by using replacement operator {} and format() method."
      ],
      "metadata": {
        "id": "X1GtABCehgW2"
      }
    },
    {
      "cell_type": "code",
      "source": [
        "name='rajesh'\n",
        "salary=10000\n",
        "age=31\n",
        "print(\"{}'s salary is {} and his age is  {}\".format(name,salary,age))\n",
        "print(\"{0}'s salary is {1} and his age is  {2}\".format(name,salary,age))\n",
        "print(\"{x}'s salary is {y} and his age is  {z}\".format(z=age,y=salary,x=name))"
      ],
      "metadata": {
        "colab": {
          "base_uri": "https://localhost:8080/"
        },
        "id": "JfSIbDj_hcy9",
        "outputId": "4bbb4496-f8e7-4706-fb5a-79c11638a853"
      },
      "execution_count": 59,
      "outputs": [
        {
          "output_type": "stream",
          "name": "stdout",
          "text": [
            "rajesh's salary is 10000 and his age is  31\n",
            "rajesh's salary is 10000 and his age is  31\n",
            "rajesh's salary is 10000 and his age is  31\n"
          ]
        }
      ]
    },
    {
      "cell_type": "markdown",
      "source": [
        "Q1) Write a Program to Reverse the given String"
      ],
      "metadata": {
        "id": "XGjYiPCliSWz"
      }
    },
    {
      "cell_type": "code",
      "source": [
        "s=input(\"enter some string:\")\n",
        "print(s[::-1])"
      ],
      "metadata": {
        "colab": {
          "base_uri": "https://localhost:8080/"
        },
        "id": "ic5c9jVMiBST",
        "outputId": "8cf5773d-625b-4579-eaf7-4736f0e6a09d"
      },
      "execution_count": 60,
      "outputs": [
        {
          "output_type": "stream",
          "name": "stdout",
          "text": [
            "enter some string:rohan\n",
            "nahor\n"
          ]
        }
      ]
    },
    {
      "cell_type": "code",
      "source": [
        "s= 'rohan'\n",
        "''.join(reversed(s))"
      ],
      "metadata": {
        "colab": {
          "base_uri": "https://localhost:8080/",
          "height": 36
        },
        "id": "FwMT1tATjsdJ",
        "outputId": "a20984d1-b1ba-4817-8560-98cddc41a30b"
      },
      "execution_count": 62,
      "outputs": [
        {
          "output_type": "execute_result",
          "data": {
            "text/plain": [
              "'nahor'"
            ],
            "application/vnd.google.colaboratory.intrinsic+json": {
              "type": "string"
            }
          },
          "metadata": {},
          "execution_count": 62
        }
      ]
    },
    {
      "cell_type": "markdown",
      "source": [
        "Q2) Program to Reverse Order of Words\n",
        "\n",
        "Input: Learning Python is very Easy\n",
        "\n",
        "Output: Easy Very is Python Learning"
      ],
      "metadata": {
        "id": "gbScamFLkC0D"
      }
    },
    {
      "cell_type": "code",
      "source": [
        "s='learning python is very easy'\n",
        "l=s.split()\n",
        "l1=[]\n",
        "i=len(l)-1\n",
        "while i>=0:\n",
        "      l1.append(l[i])\n",
        "      i=i-1\n",
        "output=' '.join(l1)\n",
        "print(output)"
      ],
      "metadata": {
        "colab": {
          "base_uri": "https://localhost:8080/"
        },
        "id": "vwYzqE_dj6pt",
        "outputId": "92f866b5-9c4e-4c6c-e5b2-1263c5340dbc"
      },
      "execution_count": 65,
      "outputs": [
        {
          "output_type": "stream",
          "name": "stdout",
          "text": [
            "easy very is python learning\n"
          ]
        }
      ]
    },
    {
      "cell_type": "markdown",
      "source": [
        "Q3) Write a Program to Remove Duplicate Characters from the given Input String?\n",
        "\n",
        "Input: ABCDABBCDABBBCCCDDEEEF\n",
        "\n",
        "Output: ABCDEF"
      ],
      "metadata": {
        "id": "lC3RwtrLlhgl"
      }
    },
    {
      "cell_type": "code",
      "source": [
        "s= input(\"enter some string\")\n",
        "l=[]\n",
        "for x in s :\n",
        "  if x  not in l:\n",
        "    l.append(x)\n",
        "output=''.join(l)\n",
        "print(output)"
      ],
      "metadata": {
        "colab": {
          "base_uri": "https://localhost:8080/"
        },
        "id": "6bJ-h1lDk1SZ",
        "outputId": "3af9f9c9-31e1-4d19-880a-b30301956b3e"
      },
      "execution_count": 67,
      "outputs": [
        {
          "output_type": "stream",
          "name": "stdout",
          "text": [
            "enter some stringakskajdaksyakcga\n",
            "aksjdycg\n"
          ]
        }
      ]
    },
    {
      "cell_type": "markdown",
      "source": [
        "Q4) Write a Program to find the Number of Occurrences of each Character present in the given String?\n",
        "\n",
        "Input: ABCABCABBCDE\n",
        "\n",
        "Output: A-3,B-4,C-3,D-1,E-1"
      ],
      "metadata": {
        "id": "BlWFj2XVmgQc"
      }
    },
    {
      "cell_type": "code",
      "source": [
        "s= input(\"Enter some string:\")\n",
        "d={}\n",
        "for x in s:\n",
        "  if x in d.keys():\n",
        "    d[x]=d[x]+1\n",
        "  else:\n",
        "    d[x]=1\n",
        "for k,v in d.items():\n",
        "  print(\"{}={} Times\".format(k,v))"
      ],
      "metadata": {
        "colab": {
          "base_uri": "https://localhost:8080/"
        },
        "id": "qbixBk_HmIno",
        "outputId": "0abd11f9-3151-4014-dd7d-9776bc6fe49a"
      },
      "execution_count": 68,
      "outputs": [
        {
          "output_type": "stream",
          "name": "stdout",
          "text": [
            "Enter some string:aaaabbbccdd\n",
            "a=4 Times\n",
            "b=3 Times\n",
            "c=2 Times\n",
            "d=2 Times\n"
          ]
        }
      ]
    },
    {
      "cell_type": "code",
      "source": [
        "s=\"aaasssddd\"\n",
        "d={}\n",
        "for x in s:\n",
        "  if x in d.keys():\n",
        "    d[x]=d[x]+1\n",
        "  else:\n",
        "    d[x]=1\n",
        "d"
      ],
      "metadata": {
        "colab": {
          "base_uri": "https://localhost:8080/"
        },
        "id": "000-3pjonZeC",
        "outputId": "3734e658-195b-477f-b16d-8ca8535aea5a"
      },
      "execution_count": 72,
      "outputs": [
        {
          "output_type": "execute_result",
          "data": {
            "text/plain": [
              "{'a': 3, 'd': 3, 's': 3}"
            ]
          },
          "metadata": {},
          "execution_count": 72
        }
      ]
    },
    {
      "cell_type": "code",
      "source": [
        "d"
      ],
      "metadata": {
        "colab": {
          "base_uri": "https://localhost:8080/"
        },
        "id": "gjxuzD_foDZQ",
        "outputId": "998cde1f-d73b-48b1-ab0b-c16f42257fd1"
      },
      "execution_count": 71,
      "outputs": [
        {
          "output_type": "execute_result",
          "data": {
            "text/plain": [
              "{'a': 3, 'd': 3, 's': 3}"
            ]
          },
          "metadata": {},
          "execution_count": 71
        }
      ]
    },
    {
      "cell_type": "code",
      "source": [
        ""
      ],
      "metadata": {
        "id": "oAlBBDM4oHJ4"
      },
      "execution_count": null,
      "outputs": []
    }
  ]
}